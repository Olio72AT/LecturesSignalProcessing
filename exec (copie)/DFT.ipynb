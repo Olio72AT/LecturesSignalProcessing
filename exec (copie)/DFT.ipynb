{
 "cells": [
  {
   "cell_type": "markdown",
   "metadata": {},
   "source": [
    "# Table of Contents\n",
    "* &nbsp;\n",
    "\t* [The Discrete Fourier Transform](#The-Discrete-Fourier-Transform)\n",
    "\t\t* [The Discrete Fourier Transform: Sampling the discrete-time Fourier transform](#The-Discrete-Fourier-Transform:-Sampling-the-discrete-time-Fourier-transform)\n",
    "\t\t* [The DFT as a change of basis](#The-DFT-as-a-change-of-basis)\n",
    "\t\t* [Time-shift property](#Time-shift-property)\n",
    "\t\t* [Circular convolution](#Circular-convolution)\n"
   ]
  },
  {
   "cell_type": "code",
   "execution_count": 1,
   "metadata": {},
   "outputs": [
    {
     "name": "stdout",
     "output_type": "stream",
     "text": [
      "... Configuring matplotlib formats\n",
      "... Configuring matplotlib with inline figures\n",
      "... Importing numpy as np, scipy as sp, pyplot as plt, scipy.stats as stats\n",
      "   ... scipy.signal as sig\n",
      "... Importing widgets, display, HTML, Image, Javascript\n",
      "... Some LaTeX definitions\n"
     ]
    },
    {
     "data": {
      "text/html": [
       "\n",
       "$$\\require{color}\n",
       "\\require{cancel}\n",
       "\\def\\tf#1{{\\mathrm{FT}\\left\\{ #1 \\right\\}}}\n",
       "\\def\\flecheTF{\\rightleftharpoons }\n",
       "\\def\\TFI#1#2#3{{\\displaystyle{\\int_{-\\infty}^{+\\infty} #1 ~e^{j2\\pi #2 #3} \n",
       "~\\dr{#2}}}}\n",
       "\\def\\TF#1#2#3{{\\displaystyle{\\int_{-\\infty}^{+\\infty} #1 ~e^{-j2\\pi #3 #2} \n",
       "~\\dr{#2}}}}\n",
       "\\def\\sha{ш}\n",
       "\\def\\dr#1{\\mathrm{d}#1}\n",
       "\\def\\egalpardef{\\mathop{=}\\limits^\\triangle}\n",
       "\\def\\sinc#1{{\\mathrm{sinc}\\left( #1 \\right)}}\n",
       "\\def\\rect{\\mathrm{rect}}\n",
       "\\definecolor{lightred}{rgb}{1,0.1,0}\n",
       "\\def\\myblueeqbox#1{{\\fcolorbox{blue}{lightblue}{$\textcolor{blue}{ #1}$}}}\n",
       "\\def\\myeqbox#1#2{{\\fcolorbox{#1}{light#1}{$\textcolor{#1}{ #2}$}}}\n",
       "\\def\\eqbox#1#2#3#4{{\\fcolorbox{#1}{#2}{$\\textcolor{#3}{ #4}$}}}\n",
       "% border|background|text\n",
       "\\def\\eqboxa#1{{\\boxed{#1}}}\n",
       "\\def\\eqboxb#1{{\\eqbox{green}{white}{green}{#1}}}\n",
       "\\def\\eqboxc#1{{\\eqbox{blue}{white}{blue}{#1}}}\n",
       "\\def\\eqboxd#1{{\\eqbox{blue}{lightblue}{blue}{#1}}}\n",
       "\\def\\E#1{\\mathbb{E}\\left[#1\\right]}\n",
       "\\def\\ta#1{\\left<#1\\right>}\n",
       "\\def\\egalparerg{{\\mathop{=}\\limits_\\mathrm{erg}}}\n",
       "\\def\\expo#1{\\exp\\left(#1\\right)}\n",
       "\\def\\d#1{\\mathrm{d}#1}\n",
       "\\def\\wb{\\mathbf{w}} \n",
       "\\def\\sb{\\mathbf{s}} \n",
       "\\def\\xb{\\mathbf{x}}\n",
       "\\def\\Rb{\\mathbf{R}} \n",
       "\\def\\rb{\\mathbf{r}} \n",
       "\\def\\mystar{{*}}\n",
       "\\def\\ub{\\mathbf{u}}\n",
       "\\def\\wbopt{\\mathop{\\mathbf{w}}\\limits^\\triangle}\n",
       "\\def\\deriv#1#2{\\frac{\\mathrm{d}#1}{\\mathrm{d}#2}}\n",
       "\\def\\Ub{\\mathbf{U}}\n",
       "\\def\\db{\\mathbf{d}}\n",
       "\\def\\eb{\\mathbf{e}}\n",
       "\\def\\vb{\\mathbf{v}}\n",
       "\\def\\Ib{\\mathbf{I}}\n",
       "\\def\\Vb{\\mathbf{V}}\n",
       "\\def\\Lambdab{\\mathbf{\\Lambda}}\n",
       "\\def\\Ab{\\mathbf{A}}\n",
       "\\def\\Bb{\\mathbf{B}}\n",
       "\\def\\Cb{\\mathbf{C}}\n",
       "\\def\\Db{\\mathbf{D}}\n",
       "\\def\\Kb{\\mathbf{K}}\n",
       "\\def\\sinc#1{\\mathrm{sinc\\left(#1\\right)}}\n",
       "$$\n"
      ],
      "text/plain": [
       "<IPython.core.display.HTML object>"
      ]
     },
     "metadata": {},
     "output_type": "display_data"
    },
    {
     "name": "stdout",
     "output_type": "stream",
     "text": [
      "... Defining figures captions \n"
     ]
    },
    {
     "data": {
      "text/html": [
       "<style>\n",
       ".caption {\n",
       "font-weight: normal;\n",
       "text-align: left;\n",
       "width:60%; margin-left:10%; border:2px solid; padding-top:5px; padding-bottom:5px;\n",
       "background-color:white;border-color:#efd3d7;color:black;\n",
       "border-radius:8px;-webkit-border-radius:8px;-moz-border-radius:8px;border-radius:8px\n",
       "}\n",
       "</style>"
      ],
      "text/plain": [
       "<IPython.core.display.HTML object>"
      ]
     },
     "metadata": {},
     "output_type": "display_data"
    },
    {
     "name": "stdout",
     "output_type": "stream",
     "text": [
      "... Loading customized Javascript for interactive solutions (show/hide)\n",
      "... Redefining interactive from ipywidgets\n",
      "... Redefining capture for ipywidgets < 7\n"
     ]
    }
   ],
   "source": [
    "%run nbinit.ipy"
   ]
  },
  {
   "cell_type": "markdown",
   "metadata": {},
   "source": [
    "## The Discrete Fourier Transform"
   ]
  },
  {
   "cell_type": "markdown",
   "metadata": {},
   "source": [
    "From the periodization-discretization duality, we can return to the notion of Discrete Fourier Transform (\\ref{eq:DFT}) we introduced in section \\ref{def:DFT}. Recall that the DFT is Fourier transform that appears when we assume that the signal is periodic out of the observation interval (an other option is to assume that the signal is zero outside of the observation interval, and this leads to the discrete-time Fourier transform). Since the signal is considered periodic, it can be expressed as a Fourier series, and this leads to the pair of formulas recalled here for convenience\n",
    "\\begin{equation}\n",
    "\\eqboxc{\\begin{aligned}\n",
    "x(n) &= \\sum_{k=0}^{N-1} X(k)  e^{j2\\pi\\frac{ k n}{N}}\\\\\n",
    "\\text{with   }\n",
    "X(k) &= \\frac{1}{N}\\sum_{n=0}^{N-1} x(n)  e^{-j2\\pi\\frac{ k n}{N}}.\n",
    "\\end{aligned}\n",
    "}\n",
    "\\label{eq:DFTbis}\n",
    "\\end{equation}\n",
    "In this section, we show that the DFT can also be viewed as a sampled version of the discrete-time Fourier transform or as a simple change of basis for signal representation. We indicate that the assumption of periodized signal in the time-domain implies some caution when studying some properties of the DFT, namely time shifts or convolution. "
   ]
  },
  {
   "cell_type": "markdown",
   "metadata": {},
   "source": [
    "### The Discrete Fourier Transform: Sampling the discrete-time Fourier transform"
   ]
  },
  {
   "cell_type": "markdown",
   "metadata": {},
   "source": [
    "Given what we learned before, it is very easy to see that the DFT is indeed a sampled version of the discrete-time Fourier transform. We know that periodizing a signal can be interpreted as a convolution of a pattern with a Dirac comb. In turn, this implies in the frequency domain a multiplication of the Fourier transform of the initial pattern with a Dirac comb: if we denote $x_0(n)$ the signal for $n\\in[0,N)$, \n",
    "$$\n",
    "x(n) = [x_0*\\sha_N](n)\n",
    "$$\n",
    "and\n",
    "\\begin{align}\n",
    "X(f) & = X_0(f) .  \\frac{1}{N}\\sha_\\frac{1}{N}(f) \\\\\n",
    "& = X_0(f) . \\frac{1}{N} \\sum_{k=0}^{N-1} \\delta\\left(f-\\frac{k}{N}\\right)  \\\\\n",
    "& =  \\frac{1}{N} \\sum_{k=0}^{N-1} X_0\\left(\\frac{k}{N}\\right) \\delta\\left(f-\\frac{k}{N}\\right)  \\\\\n",
    "\\end{align}\n",
    "Then, the expression of $x(n)$ as an inverse Fourier  transform becomes\n",
    "\\begin{align}\n",
    "x(n) & = \\int_{[1]} X(f) e^{j2\\pi fn} \\dr{f} \\\\\n",
    "& = \\frac{1}{N} \\sum_{k=0}^{N-1}  X_0\\left(\\frac{k}{N}\\right) \\int_{[1]}  e^{j2\\pi fn} \\delta\\left(f-\\frac{k}{N}\\right) \\dr{f} \\\\\n",
    "& = \\frac{1}{N} \\sum_{k=0}^{N-1} X_0\\left(\\frac{k}{N}\\right) e^{j2\\pi \\frac{kn}{N}}\n",
    "\\end{align}\n",
    "since the integration with the Dirac distribution yields the value of the function for the argument where the Dirac is nonzero. It simply remains to note that \n",
    "\\begin{align}\n",
    "X_0\\left(f=\\frac{k}{N}\\right) & = \\sum_{n=-\\infty}^{+\\infty} x_0(n) e^{-j2\\pi \\frac{kn}{N}}\\\\\n",
    "& = \\sum_{n=0}^{N-1} x_0(n) e^{-j2\\pi \\frac{kn}{N}}\\\\\n",
    "\\end{align}\n",
    "since $x(n)=x_0(n)$ on the interval $[0,N)$. Denoting $X(k)=X_0\\left(f=\\frac{k}{N}\\right)$, we arrive at the formulas (\\ref{eq:DFTbis}) for the DFT.  "
   ]
  },
  {
   "cell_type": "markdown",
   "metadata": {},
   "source": [
    "We illustrate this numerically. We look at the Fourier transform of a sine wave, with and without zero-padding. In the first case, we obtain something that represents the discrete-time Fourier transform, and which exhibits the consequence of the time-limitation of the signal. In the second case, we obtain the samples of the DFT. "
   ]
  },
  {
   "cell_type": "code",
   "execution_count": 2,
   "metadata": {},
   "outputs": [
    {
     "name": "stderr",
     "output_type": "stream",
     "text": [
      "/usr/local/lib/python3.5/site-packages/matplotlib/cbook/deprecation.py:107: MatplotlibDeprecationWarning: stem() got an unexpected keyword argument 'lw'. This will raise a TypeError in future versions.\n",
      "  warnings.warn(message, mplDeprecation, stacklevel=1)\n"
     ]
    },
    {
     "data": {
      "text/plain": [
       "(0, 0.3)"
      ]
     },
     "execution_count": 2,
     "metadata": {},
     "output_type": "execute_result"
    },
    {
     "data": {
      "image/png": "[encoded data removed]",
      "text/plain": [
       "<Figure size 432x288 with 1 Axes>"
      ]
     },
     "metadata": {
      "image/png": {
       "height": 263,
       "width": 380
      }
     },
     "output_type": "display_data"
    }
   ],
   "source": [
    "##\n",
    "# experiments on DFT: the DFT as sampled FT\n",
    "N = 50  # Fourier resolution: 1/N\n",
    "fo = 0.07  # not on the Fourier grid\n",
    "t = arange(N)\n",
    "s = sin(2 * pi * fo * t)\n",
    "Sz = fft(s, 1000)\n",
    "f = arange(1000) / 1000\n",
    "plot(f, abs(Sz), lw=2, color=\"blue\")\n",
    "S = fft(s)\n",
    "f2 = arange(N) / N\n",
    "stem(f2, abs(S), lw=2, linefmt='g-', markerfmt='go')\n",
    "plot(f2, abs(S), 'r-')\n",
    "xlabel(\"Frequencies\")\n",
    "\n",
    "# Here we play with annotations and arrows...\n",
    "annotate(\n",
    "    \"True Fourier transform \\n(zero-padded data)\",\n",
    "    xy=(0.075, 21),\n",
    "    xytext=(0.11, 23),\n",
    "    arrowprops=dict(\n",
    "        arrowstyle=\"->\",\n",
    "        color=\"blue\",\n",
    "        connectionstyle=\"arc3,rad=0.2\",\n",
    "        shrinkA=5,\n",
    "        shrinkB=10))\n",
    "\n",
    "annotate(\n",
    "    \"Samples on the DFT\\n grid\",\n",
    "    xy=(0.08, 15),\n",
    "    xytext=(0.13, 17),\n",
    "    arrowprops=dict(\n",
    "        arrowstyle=\"->\",\n",
    "        color=\"green\",\n",
    "        connectionstyle=\"arc3,rad=0.2\",\n",
    "        shrinkA=5,\n",
    "        shrinkB=10))\n",
    "annotate(\n",
    "    \"Apparent FT..\",\n",
    "    xy=(0.09, 10),\n",
    "    xytext=(0.16, 6.5),\n",
    "    arrowprops=dict(\n",
    "        arrowstyle=\"->\",\n",
    "        color=\"red\",\n",
    "        connectionstyle=\"arc3,rad=-0.0\",\n",
    "        shrinkA=15,\n",
    "        shrinkB=10))\n",
    "xlim([0, 0.3])"
   ]
  },
  {
   "cell_type": "markdown",
   "metadata": {},
   "source": [
    "Thus we note that without caution and analysis, it is easy to be mistaken. A zero-padding -- i.e. compute the FT padded with zeros, often enable to avoid bad interpretations. "
   ]
  },
  {
   "cell_type": "markdown",
   "metadata": {},
   "source": [
    "### The DFT as a change of basis"
   ]
  },
  {
   "cell_type": "markdown",
   "metadata": {},
   "source": [
    "A signal known on $N$ samples can be seen as a vector in a $N$-dimensional space. Of course it can be written as\n",
    "$$\n",
    "\\mathbf{x} = \\begin{bmatrix} x(0) \\\\ x(1) \\\\ \\vdots \\\\ x(N-1) \\end{bmatrix} = x(0)\\begin{bmatrix} 1 \\\\ 0 \\\\ \\vdots \\\\ 0 \\end{bmatrix} + x(1) \\begin{bmatrix} 0 \\\\ 1 \\\\ \\vdots \\\\ 0 \\end{bmatrix} + \\ldots +x(N-1)\\begin{bmatrix} 0 \\\\ 0 \\\\ \\vdots \\\\ 1 \\end{bmatrix}.\n",
    "$$\n",
    "The vectors of complex exponentials \n",
    "$$\\mathbf{e_k} = \\frac{1}{\\sqrt{N}}\\begin{bmatrix} 1, e^{-j2\\pi \\frac{k}{N}},  \\ldots,  e^{-j2\\pi \\frac{kl}{N}}, \\ldots, e^{-j2\\pi \\frac{k(N-1)}{N}} \\end{bmatrix}^T$$\n",
    "also for a basis of the same space. It is a simple exercise to check that $\\mathbf{e_k}^T\\mathbf{e_l}=\\delta(k-l)$. Thus it is possible to express $\\mathbf{x}$ in the basis of complex exponentials. The coordinate $X(k)$ of  $\\mathbf{x}$ on the vector $\\mathbf{e_k}$ is given by the scalar product $\\mathbf{e_k}^+\\mathbf{x}$, where $^+$ denotes transposition and  complex conjugation.  If we denote\n",
    "$$\n",
    "\\mathbf{F} =  \\begin{bmatrix} \\mathbf{e_0}, \\mathbf{e_1}, \\ldots  \\mathbf{e_{N-1}} \\end{bmatrix} $$\n",
    "the **Fourier matrix**, then we can note that $\\mathbf{F}^+\\mathbf{F}=\\mathbf{1}$, which means that $\\mathbf{F}$ is a unitary matrix -- and that in particular $\\mathbf{F}^{-1}=\\mathbf{F}^+$.\n",
    "Then, the change of basis to the basis of exponentials can be expressed as\n",
    "\\begin{equation}\n",
    "\\mathbf{X} = \\mathbf{F}^+ \\mathbf{x}\n",
    "\\label{eq:DFT_Fmatrix}\n",
    "\\end{equation}\n",
    "and $\\mathbf{x}$ can be expressed in  terms of the $X(k)$ as\n",
    "\\begin{equation}\n",
    "\\mathbf{x} = \\mathbf{F} \\mathbf{X}.\n",
    "\\label{eq:iDFT_Fmatrix}\n",
    "\\end{equation}\n",
    "Developing line $k$ of (\\ref{eq:DFT_Fmatrix}), we obtain\n",
    "$$\n",
    "X(k) = \\frac{1}{\\sqrt{N}}\\sum_{n=0}^{N-1} x(n)  e^{-j2\\pi\\frac{ k n}{N}},\n",
    "$$\n",
    "and developing line $n$ of (\\ref{eq:iDFT_Fmatrix}), we obtain\n",
    "$$\n",
    "x(n) = \\frac{1}{\\sqrt{N}}\\sum_{k=0}^{N-1} X(k)  e^{j2\\pi\\frac{ k n}{N}}.\n",
    "$$\n",
    "Up to a simple factor (let eg $X'(k) = \\frac{1}{\\sqrt{N}}X(k)$) we recover the formulas (\\ref{eq:DFTbis}) of the  DFT. "
   ]
  },
  {
   "cell_type": "markdown",
   "metadata": {},
   "source": [
    "### Time-shift property"
   ]
  },
  {
   "cell_type": "markdown",
   "metadata": {},
   "source": [
    "... to be completed"
   ]
  },
  {
   "cell_type": "markdown",
   "metadata": {},
   "source": [
    "### Circular convolution"
   ]
  },
  {
   "cell_type": "markdown",
   "metadata": {},
   "source": [
    "... to be completed"
   ]
  },
  {
   "cell_type": "markdown",
   "metadata": {},
   "source": [
    "\n",
    "----\n",
    "<div align=right> [Index](toc.ipynb) - [Back](Periodization_discretization.ipynb) - [Next](Sampling.ipynb)</div>"
   ]
  }
 ],
 "metadata": {
  "hide_input": false,
  "interactive_sols": {
   "cbx_id": 1
  },
  "kernelspec": {
   "display_name": "Python 3",
   "language": "python",
   "name": "python3"
  },
  "language_info": {
   "codemirror_mode": {
    "name": "ipython",
    "version": 3
   },
   "file_extension": ".py",
   "mimetype": "text/x-python",
   "name": "python",
   "nbconvert_exporter": "python",
   "pygments_lexer": "ipython3",
   "version": "3.5.0"
  },
  "latex_envs": {
   "LaTeX_envs_menu_present": true,
   "autoclose": false,
   "autocomplete": true,
   "bibliofile": "biblio.bib",
   "cite_by": "apalike",
   "current_citInitial": 1,
   "eqLabelWithNumbers": true,
   "eqNumInitial": 0,
   "hotkeys": {
    "equation": "ctrl-e"
   },
   "labels_anchors": false,
   "latex_user_defs": false,
   "report_style_numbering": false,
   "user_envs_cfg": false
  },
  "nbTranslate": {
   "displayLangs": [
    "*"
   ],
   "hotkey": "alt-t",
   "langInMainMenu": true,
   "sourceLang": "en",
   "targetLang": "fr",
   "useGoogleTranslate": true
  },
  "toc": {
   "base_numbering": "1",
   "nav_menu": {},
   "number_sections": true,
   "sideBar": false,
   "skip_h1_title": false,
   "title_cell": "Table of Contents",
   "title_sidebar": "Contents",
   "toc_cell": false,
   "toc_position": {},
   "toc_section_display": true,
   "toc_window_display": false
  }
 },
 "nbformat": 4,
 "nbformat_minor": 1
}
