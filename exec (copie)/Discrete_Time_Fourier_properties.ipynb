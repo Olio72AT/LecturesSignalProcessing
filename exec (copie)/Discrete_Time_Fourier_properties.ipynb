{
 "cells": [
  {
   "cell_type": "markdown",
   "metadata": {},
   "source": [
    "Some definitions\n",
    "$$\n",
    "\\def\\flecheTF{\\mathop{\\rightharpoonup}\\limits_{\\mbox{$\\leftharpoondown $}}} \n",
    "\\def\\TFI#1#2#3{{\\displaystyle{\\int_{-\\infty}^{+\\infty} #1 ~e^{j2\\pi #2 #3} \n",
    "~\\dr{#2}}}}\n",
    "\\def\\TF#1#2#3{{\\displaystyle{\\int_{-\\infty}^{+\\infty} #1 ~e^{-j2\\pi #3 #2} \n",
    "~\\dr{#2}}}}\n",
    "\\def\\tf#1{{\\mathrm{FT}\\left\\{ #1 \\right\\}}}\n",
    "\\def\\sinc#1{{\\mathrm{sinc}\\left( #1 \\right)}}\n",
    "\\def\\rect{\\mathrm{rect}}\n",
    "\\def\\egalpardef{\\mathop{=}\\limits^\\triangle}\n",
    "\\def\\dr#1{\\mathrm{d}#1}\n",
    "$$"
   ]
  },
  {
   "cell_type": "code",
   "execution_count": 1,
   "metadata": {},
   "outputs": [
    {
     "name": "stdout",
     "output_type": "stream",
     "text": [
      "... Configuring matplotlib formats\n",
      "... Configuring matplotlib with inline figures\n",
      "... Importing numpy as np, scipy as sp, pyplot as plt, scipy.stats as stats\n",
      "   ... scipy.signal as sig\n",
      "... Importing widgets, display, HTML, Image, Javascript\n",
      "... Some LaTeX definitions\n"
     ]
    },
    {
     "data": {
      "text/html": [
       "\n",
       "$$\\require{color}\n",
       "\\require{cancel}\n",
       "\\def\\tf#1{{\\mathrm{FT}\\left\\{ #1 \\right\\}}}\n",
       "\\def\\flecheTF{\\rightleftharpoons }\n",
       "\\def\\TFI#1#2#3{{\\displaystyle{\\int_{-\\infty}^{+\\infty} #1 ~e^{j2\\pi #2 #3} \n",
       "~\\dr{#2}}}}\n",
       "\\def\\TF#1#2#3{{\\displaystyle{\\int_{-\\infty}^{+\\infty} #1 ~e^{-j2\\pi #3 #2} \n",
       "~\\dr{#2}}}}\n",
       "\\def\\sha{ш}\n",
       "\\def\\dr#1{\\mathrm{d}#1}\n",
       "\\def\\egalpardef{\\mathop{=}\\limits^\\triangle}\n",
       "\\def\\sinc#1{{\\mathrm{sinc}\\left( #1 \\right)}}\n",
       "\\def\\rect{\\mathrm{rect}}\n",
       "\\definecolor{lightred}{rgb}{1,0.1,0}\n",
       "\\def\\myblueeqbox#1{{\\fcolorbox{blue}{lightblue}{$\textcolor{blue}{ #1}$}}}\n",
       "\\def\\myeqbox#1#2{{\\fcolorbox{#1}{light#1}{$\textcolor{#1}{ #2}$}}}\n",
       "\\def\\eqbox#1#2#3#4{{\\fcolorbox{#1}{#2}{$\\textcolor{#3}{ #4}$}}}\n",
       "% border|background|text\n",
       "\\def\\eqboxa#1{{\\boxed{#1}}}\n",
       "\\def\\eqboxb#1{{\\eqbox{green}{white}{green}{#1}}}\n",
       "\\def\\eqboxc#1{{\\eqbox{blue}{white}{blue}{#1}}}\n",
       "\\def\\eqboxd#1{{\\eqbox{blue}{lightblue}{blue}{#1}}}\n",
       "\\def\\E#1{\\mathbb{E}\\left[#1\\right]}\n",
       "\\def\\ta#1{\\left<#1\\right>}\n",
       "\\def\\egalparerg{{\\mathop{=}\\limits_\\mathrm{erg}}}\n",
       "\\def\\expo#1{\\exp\\left(#1\\right)}\n",
       "\\def\\d#1{\\mathrm{d}#1}\n",
       "\\def\\wb{\\mathbf{w}} \n",
       "\\def\\sb{\\mathbf{s}} \n",
       "\\def\\xb{\\mathbf{x}}\n",
       "\\def\\Rb{\\mathbf{R}} \n",
       "\\def\\rb{\\mathbf{r}} \n",
       "\\def\\mystar{{*}}\n",
       "\\def\\ub{\\mathbf{u}}\n",
       "\\def\\wbopt{\\mathop{\\mathbf{w}}\\limits^\\triangle}\n",
       "\\def\\deriv#1#2{\\frac{\\mathrm{d}#1}{\\mathrm{d}#2}}\n",
       "\\def\\Ub{\\mathbf{U}}\n",
       "\\def\\db{\\mathbf{d}}\n",
       "\\def\\eb{\\mathbf{e}}\n",
       "\\def\\vb{\\mathbf{v}}\n",
       "\\def\\Ib{\\mathbf{I}}\n",
       "\\def\\Vb{\\mathbf{V}}\n",
       "\\def\\Lambdab{\\mathbf{\\Lambda}}\n",
       "\\def\\Ab{\\mathbf{A}}\n",
       "\\def\\Bb{\\mathbf{B}}\n",
       "\\def\\Cb{\\mathbf{C}}\n",
       "\\def\\Db{\\mathbf{D}}\n",
       "\\def\\Kb{\\mathbf{K}}\n",
       "\\def\\sinc#1{\\mathrm{sinc\\left(#1\\right)}}\n",
       "$$\n"
      ],
      "text/plain": [
       "<IPython.core.display.HTML object>"
      ]
     },
     "metadata": {},
     "output_type": "display_data"
    },
    {
     "name": "stdout",
     "output_type": "stream",
     "text": [
      "... Defining figures captions \n"
     ]
    },
    {
     "data": {
      "text/html": [
       "<style>\n",
       ".caption {\n",
       "font-weight: normal;\n",
       "text-align: left;\n",
       "width:60%; margin-left:10%; border:2px solid; padding-top:5px; padding-bottom:5px;\n",
       "background-color:white;border-color:#efd3d7;color:black;\n",
       "border-radius:8px;-webkit-border-radius:8px;-moz-border-radius:8px;border-radius:8px\n",
       "}\n",
       "</style>"
      ],
      "text/plain": [
       "<IPython.core.display.HTML object>"
      ]
     },
     "metadata": {},
     "output_type": "display_data"
    },
    {
     "name": "stdout",
     "output_type": "stream",
     "text": [
      "... Loading customized Javascript for interactive solutions (show/hide)\n",
      "... Redefining interactive from ipywidgets\n",
      "... Redefining capture for ipywidgets < 7\n"
     ]
    }
   ],
   "source": [
    "%run nbinit.ipy"
   ]
  },
  {
   "cell_type": "markdown",
   "metadata": {},
   "source": [
    "## Symmetries of the Fourier transform. "
   ]
  },
  {
   "cell_type": "markdown",
   "metadata": {},
   "source": [
    "Consider the Fourier pair\n",
    "\\[\n",
    "x(n) \\flecheTF X(f).\n",
    "\\]\n",
    "When $x(n)$ is complex valued, we have\n",
    "\\[\n",
    "\\fbox{$x^*(n) \\flecheTF X^*(-f)$}.\n",
    "\\]\n",
    "This can be easily checked beginning with the definition of the Fourier transform:\n",
    "\\begin{eqnarray*}\n",
    "\\tf{x^*(n)} & = & \\sum_n {x^*(n)}e^{-j2\\pi fn}, \\\\\n",
    "& = & \\left(\\int_{[1]}{x(n)}e^{j2\\pi fn} \\dr{f} \\right)^*, \\\\\n",
    "& = & X^*(-f).\n",
    "\\end{eqnarray*}\n",
    "In addition, for any signal $x(n)$, we have\n",
    "\\[\n",
    "\\fbox{$x(-n) \\flecheTF X(-f)$}.\n",
    "\\]\n",
    "This last relation can be derived directly from the Fourier transform of  $x(-n)$\n",
    "\\[\n",
    "\\tf{x(-n)}  =  \\TF{x(-n)}{t}{f}, \n",
    "\\]\n",
    "using the change of variable $-t \\rightarrow t$, we get\n",
    "\\begin{eqnarray*}\n",
    "\\tf{x(-n)} & = & \\TFI{x(n)}{t}{f}, \\\\\n",
    "& = & X(-f).\n",
    "\\end{eqnarray*}\n",
    "\n",
    "using the two last emphasized relationships, we obtain\n",
    "\\[\n",
    "\\fbox{$x^*(-n) \\flecheTF X^*(f)$}.\n",
    "\\]\n",
    "To sum it all up, we have\n",
    "\\[\n",
    "\\fbox{\n",
    "$\\begin{array}{lll}\n",
    "x(n) & \\flecheTF & X(f) \\\\\n",
    "x(-n) & \\flecheTF & X(-f) \\\\\n",
    "x^*(n) & \\flecheTF & X^*(-f) \\\\\n",
    "x^*(-n) & \\flecheTF & X^*(f) \n",
    "\\end{array}\n",
    "$}\n",
    "\\]\n",
    "\n",
    "These relations enable to analyse all the symetries of the Fourier transform. We begin with the\n",
    "\\textem{Hermitian symmetry} for \\textbf{real signals}: \n",
    "\\[\n",
    "\\fbox{$X(f) = X^*(-f)$}\n",
    "\\]\n",
    "from that, we observe that if $x(n)$ is real, then \\label{prop:prop-sym}\n",
    "\\begin{itemize}\n",
    "\\item the real part of $X(f)$ is \\textem{even},\n",
    "\\item the imaginary part of $X(f)$ is \\textem{odd},\n",
    "\\item the modulus of $X(f)$, $|X(f)|$ is \\textem{even},\n",
    "\\item the phase of $X(f)$, $\\theta(f)$ is \\textem{odd}.\n",
    "\\end{itemize}\n",
    "\n",
    "Moreover, if $x(n)$ is odd or even ($x(n)$ is not necessarily real),\n",
    "we have\n",
    "\\label{prop:tf-sym}\n",
    "\\[\n",
    "\\fbox{\n",
    "$\\begin{array}{lllll}\n",
    "\\text{[even] } & x(n)=x(-n) & \\flecheTF & X(f)=X(-f) & \\text{  [even]}\\\\\n",
    "\\text{[odd] } & x(n)=-x(-n) & \\flecheTF & X(f)=-X(-f) & \\text{  [odd]}\n",
    "\\end{array}\n",
    "$}\n",
    "\\]\n",
    "\n",
    "\n",
    "\n",
    "The following table summarizes the main symmetry properties of the Fourier transform:\\\\\n",
    "\n",
    "\\[\n",
    "\\begin{array}{||l|l|l|l|l||}\n",
    "\\hline\\hline \n",
    " \\mathbf{x(n)} & \\mathbf{\\text{Symmetry}}    &     \\mathbf{\\text{Time}}       &   \\mathbf{\\text{Frequency}}    & \n",
    "\\mathbf{\\text{consequence on $X(f)$}}\\\\ \n",
    "\\hline\\hline \n",
    "  \\text{real} & \\text{any}  &  x(n)=x^*(n)   &  X(f) = X^*(-f)  & \\text{Re. even, Im. odd} \\\\\n",
    "\\hline\n",
    "  \\text{real} & \\text{even}        &  x(n)=x^*(n)=x(-n)   &  X(f) = X^*(-f)=X(-f) \n",
    "& \\text{Real and even} \\\\\n",
    "\\hline\n",
    "  \\text{real} & \\text{odd}        &  x(n)=x^*(n)=-x(-n)   &  X(f) = \n",
    "X^*(-f)=-X(-f) & \\text{Imaginary and odd} \\\\\n",
    "\\hline\n",
    "  \\text{imaginary} & \\text{any}  &   x(n)=-x^*(n)   &  X(f) = -X^*(-f)\n",
    "& \\text{Re. odd, Im. even} \\\\ \n",
    "\\hline\n",
    "  \\text{imaginary} & \\text{even}  &   x(n)=-x^*(n)=x(-n)   &  X(f) = \n",
    "-X^*(-f)=X(-f) & \\text{Imaginary and even} \\\\ \n",
    "\\hline\n",
    "\\text{imaginary} & \\text{odd}  &   x(n)=-x^*(n)=-x(-n)   &  X(f) = \n",
    "-X^*(-f)=-X(-f) & \\text{Real and odd} \\\\ \n",
    "\\hline\\hline \n",
    "\\end{array}\n",
    "\\]\n",
    "\n",
    "Finally, we have\n",
    "\\[\n",
    "\\fbox{\n",
    "$\\begin{array}{lll}\n",
    "\\text{Real even + imaginary odd }  & \\flecheTF & \\text{ Real}\\\\\n",
    "\\text{Real odd + imaginary even }  & \\flecheTF & \\text{ Imaginary}\n",
    "\\end{array}\n",
    "$}\n",
    "\\]"
   ]
  },
  {
   "cell_type": "markdown",
   "metadata": {},
   "source": [
    "## Table of Fourier transform properties"
   ]
  },
  {
   "cell_type": "markdown",
   "metadata": {},
   "source": [
    "The following table lists the main properties of the Discrete time Fourier transform. The table is adapted from the article on discrete time Fourier transform on [Wikipedia](http://en.wikipedia.org/wiki/Discrete-time_Fourier_transform). "
   ]
  },
  {
   "cell_type": "markdown",
   "metadata": {},
   "source": [
    "\\[\n",
    "\\begin{array}{||l|l|l||}\n",
    "\\hline\\hline \n",
    "    \\hline\n",
    "        \\text{Property} &\n",
    "        \\text{Time domain } x(n) &\n",
    "        \\text{Frequency domain } X(f) \n",
    "    \\\\\n",
    "    \\hline\n",
    "        \\text{Linearity} &\n",
    "         ax(n) + by(n)  &\n",
    "         aX(f) + bY(f)  \n",
    "\\\\\n",
    "    \\hline\n",
    "        \\text{Shift in time} &\n",
    "         x(n-n_0)  &\n",
    "         X(f)e^{-j2\\pi fn_0}  \n",
    "\\\\\n",
    "    \\hline\n",
    "        \\text{Shift in frequency (modulation)} &\n",
    "         x(n)e^{j2\\pi f_0 n}   &\n",
    "         X(f-f_0)   \n",
    "\\\\\n",
    "    \\hline\n",
    "        \\text{Time scaling} &\n",
    "         x(n/k)   &\n",
    "         X( kf)   \n",
    "\\\\\n",
    "    \\hline\n",
    "        \\text{Time reversal} &\n",
    "         x(-n)  &\n",
    "         X(-f)  \n",
    "\\\\\n",
    "    \\hline\n",
    "        \\text{Time conjugation} &\n",
    "         x(n)^*  &\n",
    "         X(-f)^*  \n",
    "\\\\\n",
    "    \\hline\n",
    "        \\text{Time reversal \\& conjugation} &\n",
    "         x(-n)^*  &\n",
    "         X(f)^*  \n",
    "\\\\\n",
    "        \\hline\n",
    "         \\text{Sum of  }x(n)  &\n",
    "         \\sum_{n=-\\infty}^{\\infty} x(n)   &\n",
    "         X(0)  \n",
    "\\\\\n",
    "    \\hline\n",
    "        \\text{Derivative in frequency} &\n",
    "         \\frac{n}{i} x(n)   &\n",
    "         \\frac{d X(f)}{d f}   \n",
    "\\\\\n",
    "    \\hline\n",
    "        \\text{Integral in frequency} &\n",
    "         \\frac{i}{n} x(n)   &\n",
    "         \\int_{[1]} X(f) d f   \n",
    "\\\\\n",
    "    \\hline\n",
    "        \\text{Convolve in time} &\n",
    "         x(n) * y(n)   &\n",
    "         X(f) \\cdot Y(f)   \n",
    "\\\\\n",
    "    \\hline\n",
    "        \\text{Multiply in time} &\n",
    "         x(n) \\cdot y(n)   &\n",
    "          \\int_{[1]} X(f_1) \\cdot Y(f-f_1) df_1   \n",
    "\\\\\n",
    "      \\hline\n",
    "        \\text{Area under }  X(f)  &\n",
    "         \\displaystyle{x(0)}  &\n",
    "         \\displaystyle{\\int_{[1]} X(f)\\,df}  \n",
    "\\\\\n",
    "    \\hline\n",
    "        \\text{Parseval's theorem} &\n",
    "         \\displaystyle{\\sum_{n=-\\infty}^{\\infty} {x(n) \\cdot y^*(n)}}   &\n",
    "         \\displaystyle{\\int_{[1]}{X(f) \\cdot Y^*(f) df}}   \n",
    "\\\\\n",
    "     \\hline\n",
    "        \\text{Parseval's theorem} &\n",
    "         \\displaystyle{ \\sum_{n=-\\infty}^{\\infty} {|x(n)|^2}}   &\n",
    "         \\displaystyle{\\int_{[1]}{|X(f)|^2 df}}   \n",
    "\\\\\n",
    "\\hline\\hline \n",
    "\\end{array}\n",
    "\\]"
   ]
  },
  {
   "cell_type": "markdown",
   "metadata": {},
   "source": [
    "Some examples of Fourier pairs are collected below:"
   ]
  },
  {
   "cell_type": "markdown",
   "metadata": {},
   "source": [
    "\\[\n",
    "\\begin{array}{||l|l|l||}\n",
    "\\hline\\hline \n",
    "   \\hline\n",
    "  \\mathbf{\\text{Time domain}}     & \\mathbf{\\text{Frequency domain}}     \\\\ \\hline\n",
    "   x[n]    & X(f)      \\\\ \\hline\n",
    "  \\delta[n]    & X(f) = 1     \\\\ \\hline\n",
    "  \\delta[n-M]   &  X(f) = e^{-j2\\pi f M}  \\\\ \\hline\n",
    " \\sum_{k = -\\infty}^{\\infty} \\delta[n - kM ]    &   \\frac{1}{M}\\sum_{k = -\\infty}^{\\infty} \\delta \\left( f - \\frac{ k}{M} \\right) \\\\ \\hline \n",
    "  u[n]   &  X(f) = \\frac{1}{1-e^{-j2\\pi f}} + \\frac{1}{2} \\sum_{k=-\\infty}^{\\infty} \\delta (f - k)\\!\\\\ \\hline    \n",
    "   a^n u[n]    &  X(f) = \\frac{1}{1-a e^{-j2\\pi f}}\\!     \\\\ \\hline\n",
    "   e^{-j2\\pi f_a n}   &  X(f) = \\delta (f +f_a )\\\\ \\hline        \n",
    "   \\cos(2\\pi f_a n)    &  X(f) = \\frac{1}{2} [\\delta (f+f_a)+\\delta (f-f_a)]\\\\ \\hline \n",
    "   \\sin(2\\pi f_a n)     &  X(f) = \\frac{1}{2j} [\\delta (f+f_a)-\\delta (f-f_a)] \\\\ \\hline\n",
    "   \\mathrm{rect}_M \\left[ { ( n - (M-1)/2 )  } \\right]   &  X(f) = { \\sin[ \\pi f M ] \\over \\sin( \\pi f ) } \\,  e^{ -{j\\pi f (M-1)} } \\!  \\\\ \\hline\n",
    "  \\begin{cases} 0 & n=0 \\\\\\frac{(-1)^n}{n} & \\mbox{elsewhere}\\\\\\end{cases}             &  X(f) = j 2\\pi f    \\\\ \\hline\n",
    "   \\begin{cases}0  & n \\mbox{ even} \\\\ \n",
    "   \\frac{2}{\\pi n}  & n \\mbox{ odd}\\\\\\end{cases} &  X(f) = \\begin{cases} j & f < 0 \\\\0 & f = 0 \\\\-j & f > 0\\\\\\end{cases}  \\\\ \n",
    "\\hline\\hline \n",
    "\\end{array}\n",
    "\\]\n"
   ]
  },
  {
   "cell_type": "markdown",
   "metadata": {},
   "source": [
    "\n",
    "----\n",
    "<div align=right> [Index](toc.ipynb) - [Back](Fourier_transform.ipynb) - [Next](Convolution.ipynb)</div>"
   ]
  }
 ],
 "metadata": {
  "hide_input": false,
  "kernelspec": {
   "display_name": "Python 3",
   "language": "python",
   "name": "python3"
  },
  "language_info": {
   "codemirror_mode": {
    "name": "ipython",
    "version": 3
   },
   "file_extension": ".py",
   "mimetype": "text/x-python",
   "name": "python",
   "nbconvert_exporter": "python",
   "pygments_lexer": "ipython3",
   "version": "3.5.0"
  },
  "latex_envs": {
   "LaTeX_envs_menu_present": true,
   "autoclose": false,
   "autocomplete": true,
   "bibliofile": "biblio.bib",
   "cite_by": "apalike",
   "current_citInitial": 1,
   "eqLabelWithNumbers": true,
   "eqNumInitial": 0,
   "hotkeys": {
    "equation": "ctrl-e"
   },
   "labels_anchors": false,
   "latex_user_defs": false,
   "report_style_numbering": false,
   "user_envs_cfg": false
  },
  "nbTranslate": {
   "displayLangs": [
    "*"
   ],
   "hotkey": "alt-t",
   "langInMainMenu": true,
   "sourceLang": "en",
   "targetLang": "fr",
   "useGoogleTranslate": true
  },
  "toc": {
   "base_numbering": "1",
   "nav_menu": {
    "height": "49px",
    "width": "252px"
   },
   "number_sections": true,
   "sideBar": true,
   "skip_h1_title": false,
   "title_cell": "Table of Contents",
   "title_sidebar": "Contents",
   "toc_cell": false,
   "toc_position": {},
   "toc_section_display": "block",
   "toc_window_display": false
  },
  "varInspector": {
   "cols": {
    "lenName": 16,
    "lenType": 16,
    "lenVar": 40
   },
   "kernels_config": {
    "python": {
     "delete_cmd_postfix": "",
     "delete_cmd_prefix": "del ",
     "library": "var_list.py",
     "varRefreshCmd": "print(var_dic_list())"
    },
    "r": {
     "delete_cmd_postfix": ") ",
     "delete_cmd_prefix": "rm(",
     "library": "var_list.r",
     "varRefreshCmd": "cat(var_dic_list()) "
    }
   },
   "types_to_exclude": [
    "module",
    "function",
    "builtin_function_or_method",
    "instance",
    "_Feature"
   ],
   "window_display": false
  }
 },
 "nbformat": 4,
 "nbformat_minor": 1
}
