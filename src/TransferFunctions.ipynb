{
 "cells": [
  {
   "cell_type": "markdown",
   "metadata": {},
   "source": [
    "# Table of Contents\n",
    "* [Transfer function](#Transfer-function)\n",
    "\t* [The Plancherel relation](#The-Plancherel-relation)\n",
    "\t* [Consequences](#Consequences)\n"
   ]
  },
  {
   "cell_type": "code",
   "execution_count": 1,
   "metadata": {},
   "outputs": [
    {
     "name": "stdout",
     "output_type": "stream",
     "text": [
      "... Configuring matplotlib formats\n",
      "... Configuring matplotlib with inline figures\n",
      "... Importing numpy as np, scipy as sp, pyplot as plt, scipy.stats as stats\n",
      "   ... scipy.signal as sig\n",
      "... Importing widgets, display, HTML, Image, Javascript\n",
      "... Some LaTeX definitions\n"
     ]
    },
    {
     "data": {
      "text/html": [
       "\n",
       "$$\\require{color}\n",
       "\\require{cancel}\n",
       "\\def\\tf#1{{\\mathrm{FT}\\left\\{ #1 \\right\\}}}\n",
       "\\def\\flecheTF{\\rightleftharpoons }\n",
       "\\def\\TFI#1#2#3{{\\displaystyle{\\int_{-\\infty}^{+\\infty} #1 ~e^{j2\\pi #2 #3} \n",
       "~\\dr{#2}}}}\n",
       "\\def\\TF#1#2#3{{\\displaystyle{\\int_{-\\infty}^{+\\infty} #1 ~e^{-j2\\pi #3 #2} \n",
       "~\\dr{#2}}}}\n",
       "\\def\\sha{ш}\n",
       "\\def\\dr#1{\\mathrm{d}#1}\n",
       "\\def\\egalpardef{\\mathop{=}\\limits^\\triangle}\n",
       "\\def\\sinc#1{{\\mathrm{sinc}\\left( #1 \\right)}}\n",
       "\\def\\rect{\\mathrm{rect}}\n",
       "\\definecolor{lightred}{rgb}{1,0.1,0}\n",
       "\\def\\myblueeqbox#1{{\\fcolorbox{blue}{lightblue}{$\textcolor{blue}{ #1}$}}}\n",
       "\\def\\myeqbox#1#2{{\\fcolorbox{#1}{light#1}{$\textcolor{#1}{ #2}$}}}\n",
       "\\def\\eqbox#1#2#3#4{{\\fcolorbox{#1}{#2}{$\\textcolor{#3}{ #4}$}}}\n",
       "% border|background|text\n",
       "\\def\\eqboxa#1{{\\boxed{#1}}}\n",
       "\\def\\eqboxb#1{{\\eqbox{green}{white}{green}{#1}}}\n",
       "\\def\\eqboxc#1{{\\eqbox{blue}{white}{blue}{#1}}}\n",
       "\\def\\eqboxd#1{{\\eqbox{blue}{lightblue}{blue}{#1}}}\n",
       "\\def\\E#1{\\mathbb{E}\\left[#1\\right]}\n",
       "\\def\\ta#1{\\left<#1\\right>}\n",
       "\\def\\egalparerg{{\\mathop{=}\\limits_\\mathrm{erg}}}\n",
       "\\def\\expo#1{\\exp\\left(#1\\right)}\n",
       "\\def\\d#1{\\mathrm{d}#1}\n",
       "\\def\\wb{\\mathbf{w}} \n",
       "\\def\\sb{\\mathbf{s}} \n",
       "\\def\\xb{\\mathbf{x}}\n",
       "\\def\\Rb{\\mathbf{R}} \n",
       "\\def\\rb{\\mathbf{r}} \n",
       "\\def\\mystar{{*}}\n",
       "\\def\\ub{\\mathbf{u}}\n",
       "\\def\\wbopt{\\mathop{\\mathbf{w}}\\limits^\\triangle}\n",
       "\\def\\deriv#1#2{\\frac{\\mathrm{d}#1}{\\mathrm{d}#2}}\n",
       "\\def\\Ub{\\mathbf{U}}\n",
       "\\def\\db{\\mathbf{d}}\n",
       "\\def\\eb{\\mathbf{e}}\n",
       "\\def\\vb{\\mathbf{v}}\n",
       "\\def\\Ib{\\mathbf{I}}\n",
       "\\def\\Vb{\\mathbf{V}}\n",
       "\\def\\Lambdab{\\mathbf{\\Lambda}}\n",
       "\\def\\Ab{\\mathbf{A}}\n",
       "\\def\\Bb{\\mathbf{B}}\n",
       "\\def\\Cb{\\mathbf{C}}\n",
       "\\def\\Db{\\mathbf{D}}\n",
       "\\def\\Kb{\\mathbf{K}}\n",
       "\\def\\sinc#1{\\mathrm{sinc\\left(#1\\right)}}\n",
       "$$\n"
      ],
      "text/plain": [
       "<IPython.core.display.HTML object>"
      ]
     },
     "metadata": {},
     "output_type": "display_data"
    },
    {
     "name": "stdout",
     "output_type": "stream",
     "text": [
      "... Defining figures captions \n"
     ]
    },
    {
     "data": {
      "text/html": [
       "<style>\n",
       ".caption {\n",
       "font-weight: normal;\n",
       "text-align: left;\n",
       "width:60%; margin-left:10%; border:2px solid; padding-top:5px; padding-bottom:5px;\n",
       "background-color:white;border-color:#efd3d7;color:black;\n",
       "border-radius:8px;-webkit-border-radius:8px;-moz-border-radius:8px;border-radius:8px\n",
       "}\n",
       "</style>"
      ],
      "text/plain": [
       "<IPython.core.display.HTML object>"
      ]
     },
     "metadata": {},
     "output_type": "display_data"
    },
    {
     "name": "stdout",
     "output_type": "stream",
     "text": [
      "... Loading customized Javascript for interactive solutions (show/hide)\n",
      "... Redefining interactive from ipywidgets\n",
      "... Redefining capture for ipywidgets < 7\n"
     ]
    }
   ],
   "source": [
    "%run nbinit.ipy"
   ]
  },
  {
   "cell_type": "markdown",
   "metadata": {},
   "source": [
    "# Transfer function"
   ]
  },
  {
   "cell_type": "markdown",
   "metadata": {},
   "source": [
    "Given a filter with input $x(n)$ and output $y(n)$, it is always possible to compute the Fourier transform of he input and of the output, say $X(f)$ and $Y(f)$. The ratio of these two quantities is called the **transfer function**. For now, let us denote it by $T(f)$. Interestingly, we will see that the transfer function do not depend on $x$, and thus is a global characteristic of the system. More than that, we will see that the transfer function is intimately linked to the impulse response of the system. "
   ]
  },
  {
   "cell_type": "markdown",
   "metadata": {},
   "source": [
    "## The Plancherel relation"
   ]
  },
  {
   "cell_type": "markdown",
   "metadata": {
    "solution2": "hidden"
   },
   "source": [
    "Convolution enables to express the output of a filter characterized by its impulse response. Consider a system with impulse response $h(n)$ and an input\n",
    "\\[\n",
    "x(n)  = X_0 e^{j2\\pi f_0n}.\n",
    "\\]\n",
    "Its output is given by\n",
    "\\begin{eqnarray*}\n",
    "y(n) & = & \\sum_m h(m) X_0~ e^{j2\\pi f_0(n-m)}\n",
    "\\\\ & = & X_0 e^{j2\\pi f_0n} \\sum_m h(m) e^{-j2\\pi \n",
    "f_0m}.\n",
    "\\end{eqnarray*}\n",
    "We recognize above the expression of the Fourier transform of $h(m)$ at the frequency $f_0$: \n",
    "\\[\n",
    "\\boxed{ \\displaystyle{H(f_0) = \\sum_m h(m) e^{-j2\\pi \n",
    "f_0m}}}.\n",
    "\\]\n",
    "\\index{Filtres!Fonction de transfert|fin}\n",
    "Hence, the output can be simply written as\n",
    "\\[\n",
    "y(n)  = X_0 e^{j2\\pi f_0n} H(f_0).\n",
    "\\]\n",
    "For a linear system excited by a complex exponential at frequency $f_0$ , we obtain that output is the **same** signal, up to a complex factor $H(f_0)$. \n",
    "This gives us another insight on the interest of the decomposition on complex exponentials: they are *eigen-functions* of filters, and $H(f_0)$ plays the role of the associated *eigenvalue*. \\index{Filters!eigenfunctions|end}\n",
    "\n",
    "Consider now an arbitrary signal $x(n)$. It is possible to express $x(n)$ as an infinite sum of complex exponentials (this is nothing but the inverse Fourier transform);\n",
    "\\[\n",
    "x(n) = \\int_{[1]} X(f) e^{j2\\pi f n} \\dr{f}.\n",
    "\\]\n",
    "To each component $X(f) e^{j2\\pi fn}$ corresponds an output \n",
    "$X(f)H(f) e^{j2\\pi fn}$, and, by superposition,\n",
    "\\[\n",
    "y(n) = \\int_{[1]} X(f)H(f) e^{j2\\pi f n} \\dr{f}.\n",
    "\\]\n",
    "Thefore, we see that the Fourier transform of the output, $Y(f)$, is simply\n",
    "\\[\n",
    "\\eqboxc{Y(f) = X(f)H(f)}.\n",
    "\\]\n",
    "The time domain description, in terms of convolution product, becomes a simple product in the Fourier domain. \n",
    "\\[\n",
    "\\eqboxd{[x\\mystar h] (n) \\flecheTF ~X(f)H(f)}.\n",
    "\\]\n",
    "It is easy to check that reciprocally, \n",
    "\\[\n",
    "\\eqboxd{x(n)h(n) \\flecheTF [X\\mystar H] (f)}.\n",
    "\\]\n",
    "Try to check it as an exercise. You will need to introduce a convolution for function of a continuous variable, following the model of the convolution for discrete signals. "
   ]
  },
  {
   "cell_type": "markdown",
   "metadata": {
    "solution2": "hidden"
   },
   "source": [
    "Begin with the Fourier transform of $x(n)y(n)$, and replace the signals by their expression as the inverse Fourier transform:\n",
    "\\begin{align}\n",
    "\\mathrm{FT}[x(n)y(n)] & = \\sum_n x(n)y(n) e^{-j2\\pi f n} \\\\\n",
    "& = \\sum_n \\int X(f_1)e^{j\\pi f_1 n} \\dr{f_1} \\int Y(f_2)e^{j\\pi f_2 n} \\dr{f_2} e^{-j2\\pi f n} \\\\\n",
    "& =  \\int\\!\\!\\!\\int  X(f_1)   Y(f_2)  \\sum_n e^{j\\pi f_1 n}e^{j\\pi f_2 n} e^{-j2\\pi f n} \\dr{f_1} \\dr{f_2}\n",
    "\\end{align}\n",
    "It remains to note that the sum of exponentials is nothing but the Fourier transform of the complex exponential $e^{j\\pi (f_1+f_2) n}$, and thus that\n",
    "$$\n",
    "\\sum_n e^{j\\pi f_1 n}e^{j\\pi f_2 n} e^{-j2\\pi f n} = \\delta(f-f_1-f_2).\n",
    "$$\n",
    "Therefore, the double integral above reduces to a simple one, since $f_2=f-f_1$, and we obtain\n",
    "$$\n",
    "\\mathrm{FT}[x(n)y(n)] = \\int  X(f_1)   Y(f-f_1)  \\dr{f_1} =[X*Y](f).\n",
    "$$\n",
    "\n",
    "(Another proof is possible, beginning with the inverse Fourier transform of the \n",
    "convolution $[X*Y](f)$, and decomposing the exponential so as to exhibit the inverse Fourier transform of $x(n)$ and $y(n)$). Try it. "
   ]
  },
  {
   "cell_type": "markdown",
   "metadata": {},
   "source": [
    "The transform of a convolution into a simple product, and reciprocally, constitutes the Plancherel theorem:\n",
    "\\index{Convolution!Plancherel theorem|end}\n",
    "\\[\n",
    "\\boxed{ \\begin{array}{lcl}\n",
    "[x*y](t) & \\flecheTF & X(f)Y(f), \\\\\n",
    "x(t)y(t) & \\flecheTF & [X*Y](f).\n",
    "\\end{array}\n",
    "}\n",
    "\\]\n",
    "\n",
    "This theorem has several important consequences."
   ]
  },
  {
   "cell_type": "markdown",
   "metadata": {},
   "source": [
    "## Consequences"
   ]
  },
  {
   "cell_type": "markdown",
   "metadata": {},
   "source": [
    "The Fourier transform of $x(n)y(n)^{*}$ is \n",
    "$$\n",
    "\\displaystyle{x(n)y(n)^* \\flecheTF \\int_{[1]} X(u)Y(f-u)^* \\dr{u}},\n",
    "$$\n",
    "\n",
    "since $\\mathrm{FT}{y^*(n)}=Y^*(-f)$. Therefore, \n",
    "$$\n",
    "\\mathrm{FT}{x(n)y(n)^{*}} = \\int_{[1]} X(u)Y(u-f)^* \\dr{u},\n",
    "$$\n",
    "that is, for $f=0$,\n",
    "$\\def\\mystar{*}$\n",
    "\\[\n",
    "\\eqboxb{ \\displaystyle{\\sum_{-\\infty}^{+\\infty} x(n)y^\\mystar (n)  = \\int_{[1]} X(u)Y^\\mystar(u) \\dr{u}}}. \n",
    "\\]\n",
    "\\index{Convolution!Plancherel-Parseval theorem|end}\n",
    "This relation shows that \\textit{the scalar product is conserved} in the different basis for signals. This property is called the \n",
    "**Plancherel-Parseval theorem**. Using this relation\n",
    "with $y(n)=x(n)$, we have\n",
    "\\[\n",
    "\\eqboxb{ \\displaystyle{\\sum_{-\\infty}^{+\\infty} |x(n)|^2 =\n",
    "\\int_{[1]} |X(f)|^2 \\dr{f}}},\n",
    "\\]\n",
    "which is a relation indicating \\textit{energy conservation}. It is the **Parseval relation**.\n",
    "\\index{Convolution!Parseval's relation|end}"
   ]
  },
  {
   "cell_type": "markdown",
   "metadata": {},
   "source": [
    "\n",
    "----\n",
    "<div align=right> [Index](toc.ipynb) - [Back](Convolution.ipynb) - [Next](Exercises_BasicSystemsRepr.ipynb)</div>"
   ]
  },
  {
   "cell_type": "markdown",
   "metadata": {},
   "source": [
    "$$\\def\\flecheTF{\\mathop{\\rightharpoonup}\\limits_{\\mbox{$\\leftharpoondown $}}} \n",
    "\\def\\expo#1{\\exp\\left(#1\\right)}\n",
    "\\def\\dr#1{\\mathrm{d}#1}$$"
   ]
  }
 ],
 "metadata": {
  "hide_input": false,
  "interactive_sols": {
   "cbx_id": 2
  },
  "kernelspec": {
   "display_name": "Python 3",
   "language": "python",
   "name": "python3"
  },
  "language_info": {
   "codemirror_mode": {
    "name": "ipython",
    "version": 3
   },
   "file_extension": ".py",
   "mimetype": "text/x-python",
   "name": "python",
   "nbconvert_exporter": "python",
   "pygments_lexer": "ipython3",
   "version": "3.5.0"
  },
  "latex_envs": {
   "LaTeX_envs_menu_present": true,
   "autoclose": false,
   "autocomplete": true,
   "bibliofile": "biblio.bib",
   "cite_by": "apalike",
   "current_citInitial": 1,
   "eqLabelWithNumbers": true,
   "eqNumInitial": 0,
   "hotkeys": {
    "equation": "ctrl-e"
   },
   "labels_anchors": false,
   "latex_user_defs": false,
   "report_style_numbering": false,
   "user_envs_cfg": false
  },
  "nbTranslate": {
   "displayLangs": [
    "*"
   ],
   "hotkey": "alt-t",
   "langInMainMenu": true,
   "sourceLang": "en",
   "targetLang": "fr",
   "useGoogleTranslate": true
  },
  "toc": {
   "base_numbering": "1",
   "nav_menu": {
    "height": "67px",
    "width": "252px"
   },
   "number_sections": true,
   "sideBar": true,
   "skip_h1_title": false,
   "title_cell": "Table of Contents",
   "title_sidebar": "Contents",
   "toc_cell": false,
   "toc_position": {},
   "toc_section_display": "block",
   "toc_window_display": false
  }
 },
 "nbformat": 4,
 "nbformat_minor": 1
}
