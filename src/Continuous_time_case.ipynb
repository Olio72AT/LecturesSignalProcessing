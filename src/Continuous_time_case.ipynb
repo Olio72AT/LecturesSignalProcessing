{
 "cells": [
  {
   "cell_type": "code",
   "execution_count": 1,
   "metadata": {},
   "outputs": [
    {
     "name": "stdout",
     "output_type": "stream",
     "text": [
      "... Configuring matplotlib formats\n",
      "... Configuring matplotlib with inline figures\n",
      "... Importing numpy as np, scipy as sp, pyplot as plt, scipy.stats as stats\n",
      "   ... scipy.signal as sig\n",
      "... Importing widgets, display, HTML, Image, Javascript\n",
      "... Some LaTeX definitions\n"
     ]
    },
    {
     "data": {
      "text/html": [
       "\n",
       "$$\\require{color}\n",
       "\\require{cancel}\n",
       "\\def\\tf#1{{\\mathrm{FT}\\left\\{ #1 \\right\\}}}\n",
       "\\def\\flecheTF{\\rightleftharpoons }\n",
       "\\def\\TFI#1#2#3{{\\displaystyle{\\int_{-\\infty}^{+\\infty} #1 ~e^{j2\\pi #2 #3} \n",
       "~\\dr{#2}}}}\n",
       "\\def\\TF#1#2#3{{\\displaystyle{\\int_{-\\infty}^{+\\infty} #1 ~e^{-j2\\pi #3 #2} \n",
       "~\\dr{#2}}}}\n",
       "\\def\\sha{ш}\n",
       "\\def\\dr#1{\\mathrm{d}#1}\n",
       "\\def\\egalpardef{\\mathop{=}\\limits^\\triangle}\n",
       "\\def\\sinc#1{{\\mathrm{sinc}\\left( #1 \\right)}}\n",
       "\\def\\rect{\\mathrm{rect}}\n",
       "\\definecolor{lightred}{rgb}{1,0.1,0}\n",
       "\\def\\myblueeqbox#1{{\\fcolorbox{blue}{lightblue}{$\textcolor{blue}{ #1}$}}}\n",
       "\\def\\myeqbox#1#2{{\\fcolorbox{#1}{light#1}{$\textcolor{#1}{ #2}$}}}\n",
       "\\def\\eqbox#1#2#3#4{{\\fcolorbox{#1}{#2}{$\\textcolor{#3}{ #4}$}}}\n",
       "% border|background|text\n",
       "\\def\\eqboxa#1{{\\boxed{#1}}}\n",
       "\\def\\eqboxb#1{{\\eqbox{green}{white}{green}{#1}}}\n",
       "\\def\\eqboxc#1{{\\eqbox{blue}{white}{blue}{#1}}}\n",
       "\\def\\eqboxd#1{{\\eqbox{blue}{lightblue}{blue}{#1}}}\n",
       "\\def\\E#1{\\mathbb{E}\\left[#1\\right]}\n",
       "\\def\\ta#1{\\left<#1\\right>}\n",
       "\\def\\egalparerg{{\\mathop{=}\\limits_\\mathrm{erg}}}\n",
       "\\def\\expo#1{\\exp\\left(#1\\right)}\n",
       "\\def\\d#1{\\mathrm{d}#1}\n",
       "\\def\\wb{\\mathbf{w}} \n",
       "\\def\\sb{\\mathbf{s}} \n",
       "\\def\\xb{\\mathbf{x}}\n",
       "\\def\\Rb{\\mathbf{R}} \n",
       "\\def\\rb{\\mathbf{r}} \n",
       "\\def\\mystar{{*}}\n",
       "\\def\\ub{\\mathbf{u}}\n",
       "\\def\\wbopt{\\mathop{\\mathbf{w}}\\limits^\\triangle}\n",
       "\\def\\deriv#1#2{\\frac{\\mathrm{d}#1}{\\mathrm{d}#2}}\n",
       "\\def\\Ub{\\mathbf{U}}\n",
       "\\def\\db{\\mathbf{d}}\n",
       "\\def\\eb{\\mathbf{e}}\n",
       "\\def\\vb{\\mathbf{v}}\n",
       "\\def\\Ib{\\mathbf{I}}\n",
       "\\def\\Vb{\\mathbf{V}}\n",
       "\\def\\Lambdab{\\mathbf{\\Lambda}}\n",
       "\\def\\Ab{\\mathbf{A}}\n",
       "\\def\\Bb{\\mathbf{B}}\n",
       "\\def\\Cb{\\mathbf{C}}\n",
       "\\def\\Db{\\mathbf{D}}\n",
       "\\def\\Kb{\\mathbf{K}}\n",
       "\\def\\sinc#1{\\mathrm{sinc\\left(#1\\right)}}\n",
       "$$\n"
      ],
      "text/plain": [
       "<IPython.core.display.HTML object>"
      ]
     },
     "metadata": {},
     "output_type": "display_data"
    },
    {
     "name": "stdout",
     "output_type": "stream",
     "text": [
      "... Defining figures captions \n"
     ]
    },
    {
     "data": {
      "text/html": [
       "<style>\n",
       ".caption {\n",
       "font-weight: normal;\n",
       "text-align: left;\n",
       "width:60%; margin-left:10%; border:2px solid; padding-top:5px; padding-bottom:5px;\n",
       "background-color:white;border-color:#efd3d7;color:black;\n",
       "border-radius:8px;-webkit-border-radius:8px;-moz-border-radius:8px;border-radius:8px\n",
       "}\n",
       "</style>"
      ],
      "text/plain": [
       "<IPython.core.display.HTML object>"
      ]
     },
     "metadata": {},
     "output_type": "display_data"
    },
    {
     "name": "stdout",
     "output_type": "stream",
     "text": [
      "... Loading customized Javascript for interactive solutions (show/hide)\n",
      "... Redefining interactive from ipywidgets\n",
      "... Redefining capture for ipywidgets < 7\n"
     ]
    }
   ],
   "source": [
    "%run nbinit.ipy"
   ]
  },
  {
   "cell_type": "markdown",
   "metadata": {},
   "source": [
    "# The continuous time case"
   ]
  },
  {
   "cell_type": "markdown",
   "metadata": {},
   "source": [
    "\n",
    "* [The continuous time case](#The-continuous-time-case)\n",
    "\t* [The continuous time Fourier transform](#The-continuous-time-Fourier-transform)\n",
    "\t\t* [Definition](#Definition)\n",
    "\t\t* [Example -  The Fourier transform of a rectangular pulse](#Example----The-Fourier-transform-of-a-rectangular-pulse)\n",
    "\t\t* [Table of Fourier transform properties](#Table-of-Fourier-transform-properties)\n",
    "\t\t* [Symmetries of the Fourier transform. ](#Symmetries-of-the-Fourier-transform.)\n",
    "\t* [Dirac impulse, representation formula and convolution](#Dirac-impulse,-representation-formula-and-convolution)\n"
   ]
  },
  {
   "cell_type": "markdown",
   "metadata": {},
   "source": [
    "## The continuous time Fourier transform"
   ]
  },
  {
   "cell_type": "markdown",
   "metadata": {},
   "source": [
    "### Definition"
   ]
  },
  {
   "cell_type": "markdown",
   "metadata": {},
   "source": [
    "We saw above that any discrete sequence can be expressed exactly as an infinite sum of complex exponentials. The same kind of result exist for continuous time signals. Any \n",
    "$x(t)$ can be expressed as the Fourier integral\n",
    "\\[\n",
    "x(t) = \\TFI{X(f)}{f}{t},\n",
    "\\]\n",
    "where\n",
    "\\[\n",
    "X(f) = \\TF{x(t)}{t}{f}.\n",
    "\\]\n",
    "\n",
    "The Fourier transform exists if the three sufficient conditions of Dirichlet are verified:\n",
    "\\begin{enumerate}\n",
    "\\item $x(t)$ possesses a finite number of discontinuities on any finite interval,\n",
    "\\item $x(t)$ possesses a finite number of maxima and minima on any finite interval,\n",
    "\\item $x(t)$ is absolutely integrable, that is \n",
    "\\[\n",
    "\\int_{-\\infty}^{+\\infty} |x(t)| ~\\dr{t} < +\\infty.\n",
    "\\]\n",
    "Indeed, if $x(t)$ is absolutely integrable, then\n",
    "\\[\n",
    "\\int_{-\\infty}^{+\\infty} |x(t)~e^{-j2\\pi ft}| ~\\dr{t} < \\int_{-\\infty}^{+\\infty} \n",
    "|x(t)| ~\\dr{t} < +\\infty\n",
    "\\]\n",
    "(since $|x(t)~e^{j2\\pi ft}| = |x(t)|~|e^{j2\\pi ft}| < |x(t)|$).\n",
    "\\end{enumerate}\n"
   ]
  },
  {
   "cell_type": "markdown",
   "metadata": {},
   "source": [
    "### Example -  The Fourier transform of a rectangular pulse"
   ]
  },
  {
   "cell_type": "markdown",
   "metadata": {},
   "source": [
    "\\begin{example} \\underline{rectangular pulse.}\n",
    "We denote $\\rect_T{(t)}$ the rectangular pulse defined by\n",
    "\n",
    "\\[\n",
    "\\rect_T(t) = \n",
    "\\begin{cases}\n",
    "1 & \\text{if } t \\in [-T/2,T/2], \\\\\n",
    "0 & \\text{elsewhere.}\n",
    "\\end{cases}\n",
    "\\]\n",
    "\n",
    "We look for the Fourier transform of  $x(t) = A \\rect_T(t)$.\n",
    "It is enough to write down the definition of the Fourier transform:\n",
    "\\[\n",
    "X(f) = \\tf{A \\rect_T(t)} = A \\int_{-T/2}^{T/2} e^{-j2\\pi ft} \\dr{t},\n",
    "\\]\n",
    "that is\n",
    "\\[\n",
    "X(f) = A \\left[ \\frac{e^{-j2\\pi ft}}{-j 2 \\pi f}\n",
    "\\right]_{-\\frac{T}{2}}^{\\frac{T}{2}}\n",
    "=  A \\frac{1}{j2 \\pi f} \\left[ e^{j\\pi fT} - e^{-j\\pi fT}\\right]\n",
    "\\]\n",
    "so that finally\n",
    "\\begin{equation}\n",
    "\\eqboxb{\\displaystyle{X(f) = AT \\frac{\\sin(\\pi f T)}{\\pi f T} \\egalpardef AT \n",
    "\\sinc{\\pi f T}.}} \n",
    "\\label{eq:tf-rect}\n",
    "\\end{equation}\n",
    "where $\\sinc{.}$ is called a `cardinal sinus`. We note that this Fourier tyransform is peal and even. We will see later that this property is true for the Fourier transforms of all real and even signals. The function $\\sinc{\\pi f T}$ vanishes for  $\\pi  f T = k \\pi$, that is for $f = k/T$; except for $k=0$, since $\\sinc{x} = 1$ for $x \\rightarrow 0$.\n",
    "\\end{example}"
   ]
  },
  {
   "cell_type": "markdown",
   "metadata": {},
   "source": [
    "Let us look at this sinc function (you may play with several values of the width):"
   ]
  },
  {
   "cell_type": "code",
   "execution_count": 5,
   "metadata": {},
   "outputs": [
    {
     "data": {
      "image/png": "[encoded data removed]",
      "text/plain": [
       "<Figure size 432x288 with 1 Axes>"
      ]
     },
     "metadata": {
      "image/png": {
       "height": 250,
       "width": 382
      }
     },
     "output_type": "display_data"
    }
   ],
   "source": [
    "%matplotlib inline\n",
    "def sinc(x):\n",
    "    if isinstance(x,(int,float)): x=[x]\n",
    "    x=np.array(x)\n",
    "    out=np.ones(np.shape(x))\n",
    "    I=np.where(x!=0)\n",
    "    out[I]=np.sin(x[I])/x[I]\n",
    "    return out\n",
    "\n",
    "def dsinc(x,L):   # This is the \"discrete time\" cardinal sinus\n",
    "    if isinstance(x,(int,float)): x=[x]\n",
    "    x=np.array(x)\n",
    "    out=np.ones(np.shape(x))\n",
    "    I=np.where(x!=0)\n",
    "    out[I]=np.sin(x[I])/(L*np.sin(x[I]/L))\n",
    "    return out\n",
    "\n",
    "N=1000\n",
    "f=np.linspace(-0.5,0.5,400)\n",
    "plt.plot(f,sinc(pi*4*f))\n",
    "plt.grid(b=True)\n"
   ]
  },
  {
   "cell_type": "markdown",
   "metadata": {},
   "source": [
    "Playing with values using a slider."
   ]
  },
  {
   "cell_type": "code",
   "execution_count": 12,
   "metadata": {},
   "outputs": [
    {
     "data": {
      "application/vnd.jupyter.widget-view+json": {
       "model_id": "de9366f76f6f4bad88c72064da06f0aa"
      }
     },
     "metadata": {},
     "output_type": "display_data"
    }
   ],
   "source": [
    "N=1000\n",
    "f=np.linspace(-0.5,0.5,400)\n",
    "out = widgets.Output()\n",
    "\n",
    "#----- Callbacks des widgets -------------\n",
    "@out.capture(clear_output=True, wait=True)\n",
    "def pltsinc(value):\n",
    "    #clear_output(wait=True)\n",
    "    T = s.value\n",
    "    plt.plot(f,sinc(pi*T*f))\n",
    "    plt.grid(b=True)\n",
    "    plt.show()\n",
    "s=widgets.FloatSlider(min=0, max=20, step=0.1, value=8)\n",
    "pltsinc('Width')\n",
    "s.observe(pltsinc,'value')\n",
    "display(widgets.VBox([s, out]))\n",
    "#alternatively\n",
    "#interact(pltsinc,value=fixed(1), T=[0.1,10,0.1])"
   ]
  },
  {
   "cell_type": "markdown",
   "metadata": {},
   "source": [
    "\\textbf{The integral of } $\\sinc{\\pi f T}$ -- Using the fact the [Dirichlet integral](http://en.wikipedia.org/wiki/Dirichlet_integral) is \n",
    "\\[\n",
    "\\int_0^{+\\infty} \\sinc{x} \\dr{x} = \\frac{\\pi}{2},\n",
    "\\]\n",
    "the symmetry of $\\sinc{}$, and a change of variable, we obtain that \n",
    "$$\n",
    "\\int_{-\\infty} ^{+\\infty} T \\sinc{\\pi f T} \\dr{f} = 1.\n",
    "$$\n",
    "\n",
    "\n",
    "It is now useful to look at the limit cases. \n",
    "- First, let $T\\to +\\infty$, that is let the rectangular pulse tends to a constant value. Its Fourier transform,   $T\\sinc{\\pi f T}$ tends to a mass on zero, since all the zero crossings occurs at zero. Furthermore, the amplitude is proportionnal to $T$ and then goes to infinity. Hence, the Fourier transform of a constant is a mass with infinite amplitude, located at 0. As we noted above, the integral of $T \\sinc{\\pi f T}$ equals to 1, which implies that the integral of this mass at zero is 1. This Fourier transform is not a function in the classical sense, but a [distribution][1], see also the [Encyclopedia of mathematics](http://www.encyclopediaofmath.org/index.php/Generalized_function). In fact, it is the generalization of the Dirac $\\delta$ function we had in discrete time.It is called \\textem{Dirac distribution} (or function) and we end with the following pair\n",
    "\n",
    "$$\n",
    "1  \\flecheTF \\delta(f)\n",
    "$$\n",
    "\n",
    "- Second, consider a rectangular pulse with amplitude $1/T$ and width $T$. When  $T\\to O$, this pulse tends to a Dirac distribution, a mass at zero, with infinite amplitude but also with a unit integral.  By the Fourier transform of a rectangular pulse (\\ref{eq:tf-rect}), we obtain that the Fourier transform of a Dirac function is a unit constant\n",
    "\n",
    "$$\n",
    "\\delta(t)  \\flecheTF 1\n",
    "$$\n",
    "\n",
    "\n",
    "\n",
    "[1]: http://en.wikipedia.org/wiki/Distribution_(mathematics)"
   ]
  },
  {
   "cell_type": "code",
   "execution_count": 4,
   "metadata": {},
   "outputs": [
    {
     "name": "stderr",
     "output_type": "stream",
     "text": [
      "/usr/local/lib/python3.5/site-packages/matplotlib/cbook/deprecation.py:107: MatplotlibDeprecationWarning: Passing one of 'on', 'true', 'off', 'false' as a boolean is deprecated; use an actual boolean (True/False) instead.\n",
      "  warnings.warn(message, mplDeprecation, stacklevel=1)\n"
     ]
    },
    {
     "data": {
      "text/plain": [
       "0"
      ]
     },
     "execution_count": 4,
     "metadata": {},
     "output_type": "execute_result"
    },
    {
     "data": {
      "image/png": "[encoded data removed]",
      "text/plain": [
       "<Figure size 432x288 with 2 Axes>"
      ]
     },
     "metadata": {
      "image/png": {
       "height": 242,
       "width": 420
      }
     },
     "output_type": "display_data"
    }
   ],
   "source": [
    "%matplotlib tk\n",
    "from matplotlib.widgets import Slider\n",
    "\n",
    "fig, ax = plt.subplots()\n",
    "fig.subplots_adjust(bottom=0.2, left=0.1)\n",
    "\n",
    "slider_ax = plt.axes([0.1, 0.1, 0.8, 0.02])\n",
    "slider = Slider(slider_ax, \"L/T\", 0, 100, valinit=8, color='#AAAAAA')\n",
    "L=10\n",
    "f=np.linspace(-0.5,0.5,400)\n",
    "\n",
    "line, = ax.plot(f,dsinc(pi*L*f,L), lw=2,label=\"Discrete time sinc\")\n",
    "line2, = ax.plot(f,sinc(pi*L*f), lw=2,label=\"Standard sinc\")\n",
    "#line2 is in order to compare with the \"true\" sinc\n",
    "ax.grid(b='on')  \n",
    "ax.legend()\n",
    "\n",
    "def on_change(L):\n",
    "    line.set_ydata(dsinc(pi*L*f,L))\n",
    "    line2.set_ydata(sinc(pi*L*f))\n",
    "        \n",
    "\n",
    "slider.on_changed(on_change)"
   ]
  },
  {
   "cell_type": "markdown",
   "metadata": {},
   "source": [
    "### Table of Fourier transform properties"
   ]
  },
  {
   "cell_type": "markdown",
   "metadata": {},
   "source": [
    "This table is adapted and reworked from Dr Chris Jobling's [resources](http://cpjobling.github.io/EG-247-Resources/), see [this page](http://nbviewer.ipython.org/github/cpjobling/EG-247-Resources/blob/master/week7/ft1.ipynb). Many pages give tables and proofs of Fourier transform properties or Fourier pairs, e.g.: \n",
    "- [Properties of the Fourier Transform (Wikpedia)](http://en.wikipedia.org/wiki/Fourier_transform#Properties_of_the_Fourier_transform), \n",
    "- [thefouriertransform.com](http://www.thefouriertransform.com/pairs/fourier.php),  \n",
    "- [Wikibooks: Engineering Tables/Fourier Transform Properties](http://en.wikibooks.org/wiki/Engineering_Tables/Fourier_Transform_Properties) \n",
    "- [Fourier Transfom&mdash;WolframMathworld](http://mathworld.wolfram.com/FourierTransform.html)."
   ]
  },
  {
   "cell_type": "markdown",
   "metadata": {},
   "source": [
    "\\[\n",
    "\\begin{array}{||l|l|l|l||}\n",
    "\\hline\\hline \n",
    "    \\hline\n",
    "         &\n",
    "        \\text{Name} &\n",
    "        x(t) &\n",
    "        X(f) \n",
    "    \\\\\n",
    "   \\hline\n",
    "        1 &\n",
    "        \\text{Linearity} &\n",
    "        \\sum_i a_ix_i(t)  &\n",
    "        \\sum_i a_iX_i(f) \n",
    "    \\\\\n",
    "   \\hline\n",
    "        2 &\n",
    "        \\text{Duality} &\n",
    "        x(-f) &\n",
    "        X(t) \n",
    "    \\\\\n",
    "   \\hline\n",
    "        3. &\n",
    "        \\text{Time and frequency scaling} &\n",
    "        x(\\alpha t) &\n",
    "        \\frac{1}{|\\alpha|}S\\left(\\frac{ f}{\\alpha}\\right) \n",
    "     \\\\\n",
    "   \\hline\n",
    "        4. &\n",
    "        \\text{Time shifting} &\n",
    "        x(t-t_0) &\n",
    "        e^{-j2\\pi f t_0}X(f) \n",
    "    \\\\\n",
    "   \\hline\n",
    "        5. &\n",
    "        \\text{Frequency shifting} &\n",
    "        e^{j2\\pi f_0 t}x(t) &\n",
    "        X(f-f_0) \n",
    "    \\\\\n",
    "   \\hline\n",
    "        7. &\n",
    "        \\text{Frequency differentiation} &\n",
    "        (-jt)^k x(t) &\n",
    "        \\frac{d^k}{d f^k}X(f) \n",
    "    \\\\\n",
    "   \\hline\n",
    "        8. &\n",
    "        \\text{Time integration} &\n",
    "        \\int_{-\\infty}^{t}f(t) \\dr{t} &\n",
    "        \\frac{X(f)}{j2\\pi f}+ X(0)\\delta(f) \n",
    "    \\\\\n",
    "   \\hline\n",
    "        9. &\n",
    "        \\text{Conjugation} &\n",
    "        s^*(t) &\n",
    "        S^*(- f) \n",
    "    \\\\\n",
    "   \\hline\n",
    "        10. &\n",
    "        \\text{Time convolution} &\n",
    "        x_1(t)*x_2(t) &\n",
    "        X_1(f) X_2(f) \n",
    "    \\\\\n",
    "   \\hline\n",
    "        11. &\n",
    "        \\text{Frequency convolution} &\n",
    "        x_1(t)x_2(t) &\n",
    "         X_1(f)*X_2(f) \n",
    "    \\\\\n",
    "   \\hline\n",
    "        12. &\n",
    "        \\text{Sum of x(t)} &\n",
    "        \\int_{-\\infty}^{\\infty} x(t) \\dr{t} &\n",
    "        X(0) \n",
    "    \\\\\n",
    "   \\hline\n",
    "        13. &\n",
    "        \\text{Area under} X(f) &\n",
    "        f(0)  &\n",
    "        \\int_{-\\infty}^{\\infty} X(f)\\,df \n",
    "    \\\\\n",
    "   \\hline\n",
    "        15. &\n",
    "        \\text{Parseval's theorem} &\n",
    "        \\int_{-\\infty}^{\\infty}|x(t)|^2 \\dr{t} &\n",
    "        \\int_{-\\infty}^{\\infty}|X(f)|^2\\,\\dr{f}. \n",
    "    \\\\\n",
    "   \\hline\n",
    "\\hline\\hline \n",
    "\\end{array}\n",
    "\\]"
   ]
  },
  {
   "cell_type": "markdown",
   "metadata": {},
   "source": [
    "\\begin{prop} \\label{prop:tf-retard}\n",
    "This property enables to express the Fourier transform of a delayed signal as a function of the Fourier transform of the initial signal and a delay term:\n",
    "\\[\n",
    "x(t-t_0) \\flecheTF X(f)e^{-j2 \\pi ft_0}.\n",
    "\\]\n",
    "\\end{prop}\n",
    "\\begin{proof}\n",
    "This property can be obtained almost immediately from the definition of the Fourier transform:\n",
    "\\[\n",
    "\\tf{x(t-t_0)} = \\TF{x(t-t_0)}{t}{f} ;\n",
    "\\]\n",
    "\n",
    "\n",
    "Noting that $e^{-j2 \\pi ft} = e^{-j2 \\pi f(t-t_0)} e^{-j2 \\pi ft_0}$, we obtain\n",
    "\\[\n",
    "\\tf{x(t-t_0)} = \\int_{-\\infty}^{+\\infty}x(t-t_0) e^{-j2 \\pi f(t-t_0)} e^{-j2 \\pi \n",
    "ft_0} \\dr{t}, \n",
    "\\]\n",
    "that is \n",
    "\\[\n",
    "\\tf{x(t-t_0)} = e^{-j2 \\pi ft_0} \\int_{-\\infty}^{+\\infty}x(t-t_0) e^{-j2 \\pi\n",
    "f(t-t_0)} \\dr{t} = e^{-j2 \\pi ft_0} X(f).\n",
    "\\]\n",
    "\\end{proof}"
   ]
  },
  {
   "cell_type": "markdown",
   "metadata": {},
   "source": [
    "### Symmetries of the Fourier transform. "
   ]
  },
  {
   "cell_type": "markdown",
   "metadata": {},
   "source": [
    "\\[\n",
    "\\begin{array}{||l|l|l||}\n",
    "\\hline\\hline \n",
    "    \\hline\n",
    "    \\mathbf{\\text{Time domain}} & \\mathbf{\\text{Frequency domain}} \n",
    "    \\\\\n",
    "   \\hline\n",
    "      \\text{real}\n",
    "       &\n",
    "      \\text{hermitian}\n",
    "\\text{(real=even, imag=odd  modulus=even, phase=odd)}\n",
    "    \\\\\n",
    "   \\hline\n",
    "      \\text{imaginary}\n",
    "       &\n",
    "      \\text{anti-hermitian}\n",
    "\\text{(real=odd, imag=even  modulus=even, phase=odd)}\n",
    "    \\\\\n",
    "   \\hline\n",
    "      \\text{even}\n",
    "       &\n",
    "      \\text{even}\n",
    "    \\\\\n",
    "   \\hline\n",
    "      \\text{odd}\n",
    "       &\n",
    "      \\text{odd}\n",
    "    \\\\\n",
    "   \\hline\n",
    "      \\text{real and even}\n",
    "       &\n",
    "      \\text{real and even (i.e. cosine transform)}\n",
    "    \\\\\n",
    "   \\hline\n",
    "      \\text{real and odd}        &\n",
    "      \\text{imaginary and odd (i.e. sine transform)}\n",
    "    \\\\\n",
    "   \\hline\n",
    "      \\text{imaginary and even}\n",
    "       &\n",
    "      \\text{imaginary and even}\n",
    "    \\\\\n",
    "   \\hline\n",
    "      \\text{imaginary and odd}\n",
    "       &\n",
    "      \\text{real and odd}\n",
    "    \\\\\n",
    "   \\hline\n",
    "\\hline\\hline \n",
    "\\end{array}\n",
    "\\]\n",
    "\n",
    "\n",
    "(table adapted from [cv.nrao.edu](http://www.cv.nrao.edu/course/astr534/FourierTransforms.html))"
   ]
  },
  {
   "cell_type": "markdown",
   "metadata": {},
   "source": [
    "## Dirac impulse, representation formula and convolution"
   ]
  },
  {
   "cell_type": "markdown",
   "metadata": {},
   "source": [
    "### Dirac impulse"
   ]
  },
  {
   "cell_type": "markdown",
   "metadata": {},
   "source": [
    "Recall that the Dirac impulse $\\delta(t)$ satisfies\n",
    "\\[\n",
    "\\delta(t) = \\left\\{\\begin{array}{ll}\n",
    "0 & \\text{    if $t \\not = 0$}, \\\\\n",
    "+\\infty & \\text{    for $t = 0$}, \n",
    "\\end{array}\n",
    "\\right.\n",
    "\\]\n",
    "and is such that\n",
    "\\[\n",
    "\\int_{-\\infty}^{+\\infty} \\delta(t) \\dr{t} = 1.\n",
    "\\]\n",
    "\\index{Dirac impulse|Definition|fin}"
   ]
  },
  {
   "cell_type": "markdown",
   "metadata": {},
   "source": [
    "### Representation formula"
   ]
  },
  {
   "cell_type": "markdown",
   "metadata": {},
   "source": [
    "The Dirac impulse plays the role of an indicator function. In particular, we have \n",
    "$$\n",
    "x(t) \\delta(t-t_0)=x(t_0) \\delta(t-t_0).\n",
    "$$\n",
    "Consequently, \n",
    "$$\n",
    "\\int_{-\\infty}^{+\\infty} x(t) \\delta(t-t_0) \\dr{t} = x(t_0) \\int_{-\\infty}^{+\\infty}  \\delta(t-t_0) \\dr{t}=x(t_0).\n",
    "$$\n",
    "Therefore, we always have \n",
    "\n",
    "$$\n",
    "\\begin{cases}\n",
    "x(t)  = { \\int_{-\\infty}^{+\\infty} x(\\tau) \\delta(t-\\tau) \\dr{\\tau} }\\\\\n",
    "\\text{with } {x(\\tau)  = \\int_{-\\infty}^{+\\infty} x(t) \\delta(t-\\tau) \n",
    "\\dr{t}}.\n",
    "\\end{cases}\n",
    "$$\n",
    "This is nothing but the continuous-time version of the \\textem{representation formula}. \n",
    "\n",
    "The set of distributions $\\{\\delta_\\tau(t) : \\delta(t-\\tau)\\}$, forms an orthonormal basis and  $x(\\tau)$ can be viewed as a coordinate of $x(t)$ on this basis. Indeed, the scalar product between $x(t)$ and $\\delta_\\tau(t)$ is nothing but\n",
    "\\[\n",
    "x(\\tau) = < x(t),\\delta_\\tau(t) >= \\int_{-\\infty}^{+\\infty} x(t) \\delta(t-\\tau) \n",
    "\\dr{t},\n",
    "\\]\n",
    "and $x(t)$ is then given as the sum of the basis functions, weighted by the associated coordinates: \n",
    "\\[\n",
    "x(t) = \\int_{-\\infty}^{+\\infty} x(\\tau) \\delta(t-\\tau) \\dr{\\tau}.\n",
    "\\]"
   ]
  },
  {
   "cell_type": "markdown",
   "metadata": {},
   "source": [
    "Following the same approach as in the discrete case, we define the \\textem{impulse response} $h(t)$ as the output of a linear invariant system to a Dirac impulse. By linearity, the output of the system to any input $x(t)$, expressed using the representation formula, is\n",
    "\\[\n",
    "\\fbox{$\\displaystyle{y(t) = \\int_{-\\infty}^{+\\infty} x(\\tau)h(t-\\tau) \\dr{\\tau} = \n",
    "[x*h](t).}$} \n",
    "\\]\n",
    "\\index{Convolution!Definition|fin}\n",
    "This is the time-continuous \\textem{convolution} between $x$ and $h$, denoted $[x*h](t)$. It enables to express the output of the filter using only the input and the impulse response. This shows the importance of the impulse response as a description of the system. The other notions we studied in the discrete case, namely transfer function, Plancherel and Parseval theorems, etc,  extends straightforwardly to the continuous case. "
   ]
  },
  {
   "cell_type": "markdown",
   "metadata": {},
   "source": [
    "\n",
    "----\n",
    "<div align=right> [Index](toc.ipynb) - [Back](BasicSystemsRepr.ipynb) - [Next](Periodization_discretization.ipynb)</div>"
   ]
  }
 ],
 "metadata": {
  "hide_input": false,
  "interactive_sols": {
   "cbx_id": 1
  },
  "kernelspec": {
   "display_name": "Python 3",
   "language": "python",
   "name": "python3"
  },
  "language_info": {
   "codemirror_mode": {
    "name": "ipython",
    "version": 3
   },
   "file_extension": ".py",
   "mimetype": "text/x-python",
   "name": "python",
   "nbconvert_exporter": "python",
   "pygments_lexer": "ipython3",
   "version": "3.5.0"
  },
  "latex_envs": {
   "LaTeX_envs_menu_present": true,
   "autoclose": false,
   "autocomplete": true,
   "bibliofile": "biblio.bib",
   "cite_by": "apalike",
   "current_citInitial": 1,
   "eqLabelWithNumbers": true,
   "eqNumInitial": 0,
   "hotkeys": {
    "equation": "ctrl-e"
   },
   "labels_anchors": false,
   "latex_user_defs": false,
   "report_style_numbering": false,
   "user_envs_cfg": false
  },
  "nbTranslate": {
   "displayLangs": [
    "*"
   ],
   "hotkey": "alt-t",
   "langInMainMenu": true,
   "sourceLang": "en",
   "targetLang": "fr",
   "useGoogleTranslate": true
  },
  "toc": {
   "base_numbering": "1",
   "nav_menu": {},
   "number_sections": true,
   "sideBar": false,
   "skip_h1_title": false,
   "title_cell": "Table of Contents",
   "title_sidebar": "Contents",
   "toc_cell": false,
   "toc_position": {},
   "toc_section_display": true,
   "toc_window_display": false
  }
 },
 "nbformat": 4,
 "nbformat_minor": 1
}
