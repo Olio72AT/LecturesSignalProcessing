{
 "cells": [
  {
   "cell_type": "markdown",
   "metadata": {},
   "source": [
    "# Signal Processing"
   ]
  },
  {
   "cell_type": "markdown",
   "metadata": {},
   "source": [
    "**Documents: everything allowed** <br>\n",
    "\n"
   ]
  },
  {
   "cell_type": "markdown",
   "metadata": {},
   "source": [
    "Before all, you will load the required libraries. Execute the cell below:"
   ]
  },
  {
   "cell_type": "code",
   "execution_count": null,
   "metadata": {
    "collapsed": false
   },
   "outputs": [],
   "source": [
    "# %load nbinit.ipy\n",
    "\n",
    "print(\"... Configuring matplotlib formats\")\n",
    "print(\"... Configuring matplotlib with inline figures\")\n",
    "\n",
    "%config InlineBackend.figure_formats = {'svg', 'jpeg'}\n",
    "\n",
    "print(\"... Importing numpy as np, scipy as sp, pyplot as plt, scipy.stats as stats\")\n",
    "print(\"   ... scipy.signal as sig\")\n",
    "import numpy as np\n",
    "import scipy as sp\n",
    "import matplotlib.pyplot as plt\n",
    "import scipy.stats as stats\n",
    "import scipy.signal as sig\n",
    "# Also import pylab for more easy interactive use (but less control)\n",
    "from pylab import *\n",
    "\n",
    "print(\"... Importing widgets, display, HTML, Image, Javascript\")\n",
    "#For displaying widgets\n",
    "from IPython.html import widgets\n",
    "from IPython.html.widgets import interact, interactive, fixed\n",
    "from IPython.html import widgets\n",
    "from IPython.display import clear_output, display, HTML, Image, Javascript\n",
    "\n",
    "#Some specific imports for plotting\n",
    "\n",
    "%matplotlib inline\n"
   ]
  },
  {
   "cell_type": "markdown",
   "metadata": {},
   "source": [
    "## 1 - Conception of a rejector filter for filtering an Electrocardiogram (ECG)"
   ]
  },
  {
   "cell_type": "markdown",
   "metadata": {},
   "source": [
    "You will load the data by\n",
    "```\n",
    "ecg=np.load('ecg.npy')\n",
    "```\n",
    "These are **real** data. \n",
    "\n",
    "- The sampling frequency is $f_s=1000$ Hz. \n",
    "\n",
    "Measurements are corrupted by a high \"noise\" given by an electrical interference at 50Hz. Part of your work will be to filter out this interference."
   ]
  },
  {
   "cell_type": "code",
   "execution_count": null,
   "metadata": {
    "collapsed": false
   },
   "outputs": [],
   "source": [
    "#do this !\n",
    "ecg=np.load('ecg.npy')"
   ]
  },
  {
   "cell_type": "markdown",
   "metadata": {},
   "source": [
    "### 1.1 Signal representation\n",
    "\n",
    "Beware that we have *many samples*. if you directly plot the inital signal, you may overflow your system memory and hang your computer. I suggest to plot only a part of the signal (for example 3000 points, e.g 0:3000)\n",
    "\n",
    "1 - Give the number of points of the ecg signal"
   ]
  },
  {
   "cell_type": "code",
   "execution_count": null,
   "metadata": {
    "collapsed": false
   },
   "outputs": [],
   "source": [
    "# code cell \n",
    "# ....\n",
    "\n",
    "# --> insert the answer here\n",
    "# N=\n",
    "# print(\"N=\",N)"
   ]
  },
  {
   "cell_type": "markdown",
   "metadata": {},
   "source": [
    "2 -  What duration corresponds to 3000 samples ? What i sthe duration of the whole signal?"
   ]
  },
  {
   "cell_type": "code",
   "execution_count": null,
   "metadata": {
    "collapsed": false
   },
   "outputs": [],
   "source": [
    "# code cell\n",
    "# ....\n",
    "\n",
    "# --> insert the answer here\n",
    "# duree_3000= \n",
    "# duree_totale= "
   ]
  },
  {
   "cell_type": "markdown",
   "metadata": {},
   "source": [
    "3 - Plot 3000 points of the time domain signal, add a title \"ECG - time representation\", a label for the x-axis, and *correctly graduate the x-axis in seconds*."
   ]
  },
  {
   "cell_type": "code",
   "execution_count": null,
   "metadata": {
    "collapsed": false
   },
   "outputs": [],
   "source": [
    "# code cell for the figure\n",
    "# ....\n"
   ]
  },
  {
   "cell_type": "markdown",
   "metadata": {},
   "source": [
    "4 - We now want to look at the signal in the frequency domain. Compute the Fourier transform on 4096 samples and plot it,  add the title \"ECG - fequency representation\", a label for the x-axis, and *correctly graduate the x-axis in frequencies*. (recall that the sampling frequency is $f_s=1000$ Hz. You may zoom the representation -- for example [0, 250Hz], using the command `plt.xlim`.  "
   ]
  },
  {
   "cell_type": "code",
   "execution_count": null,
   "metadata": {
    "collapsed": false
   },
   "outputs": [],
   "source": [
    "# code cell\n",
    "# ....\n"
   ]
  },
  {
   "cell_type": "markdown",
   "metadata": {},
   "source": [
    "--> Comment in the cell below, on the main characteristics you observe on this representation. \n"
   ]
  },
  {
   "cell_type": "markdown",
   "metadata": {},
   "source": [
    "> ..."
   ]
  },
  {
   "cell_type": "markdown",
   "metadata": {},
   "source": [
    "Given this frequency representation, is it possible to sub-sample this signal? If it were possible, what sampling frequency would you choose?\n"
   ]
  },
  {
   "cell_type": "markdown",
   "metadata": {},
   "source": [
    "-->Answer in the cell below."
   ]
  },
  {
   "cell_type": "markdown",
   "metadata": {},
   "source": [
    "> ..."
   ]
  },
  {
   "cell_type": "markdown",
   "metadata": {},
   "source": [
    "### 1.2 Filtering"
   ]
  },
  {
   "cell_type": "markdown",
   "metadata": {},
   "source": [
    "In order to remove a periodic interference on a signal with slow variations, it is enough to compute a local moving average on the length of a period. This is this idea that you will follow here."
   ]
  },
  {
   "cell_type": "markdown",
   "metadata": {},
   "source": [
    "1 - What is the number of samples $L$ per period of the interference ? Define the (theoretical) impulse response of this filter of length $L$. Plot the function transfer, computed (with zero padding) on $M=4096$ points. use a correct scale for the x-axis. It may be interesting to zoom the representation, e.g on [0, 250Hz], for example using the command `plt.xlim`.  "
   ]
  },
  {
   "cell_type": "code",
   "execution_count": null,
   "metadata": {
    "collapsed": false
   },
   "outputs": [],
   "source": [
    "# definition of h\n",
    "# ...\n",
    "\n",
    "# computation of the transfer function\n",
    "# ...\n",
    "\n",
    "\n",
    "# plot..\n",
    "# ...\n",
    "\n"
   ]
  },
  {
   "cell_type": "markdown",
   "metadata": {},
   "source": [
    "2 - Filter the whole ecg signal using this filter, and  plot  1500  points of the result. You will compare this to the initial signal (you can use subplots or plot everything on the same graphic; It would be useful to add a legend  -- comman `plt.legend()` and define labels)."
   ]
  },
  {
   "cell_type": "code",
   "execution_count": null,
   "metadata": {
    "collapsed": false
   },
   "outputs": [],
   "source": [
    "# filtering by h\n",
    "# ...\n",
    "\n",
    "\n",
    "# plot..\n",
    "# ...\n",
    "\n"
   ]
  },
  {
   "cell_type": "markdown",
   "metadata": {},
   "source": [
    "3 - You should observe a small delay between the two signals. Discuss and explain the origin/meaning of this delay."
   ]
  },
  {
   "cell_type": "markdown",
   "metadata": {},
   "source": [
    "> -->  \n"
   ]
  },
  {
   "cell_type": "markdown",
   "metadata": {},
   "source": [
    "Calibrate the signals (that is compensate the delay) by introducing an adequate delay [beware that it must be an integer number. You can force the type by casting the number, e.g. `int()`) and compare again the signals before and after filtering. "
   ]
  },
  {
   "cell_type": "code",
   "execution_count": null,
   "metadata": {
    "collapsed": false
   },
   "outputs": [],
   "source": [
    "\n",
    "# plot..\n",
    "# ...\n"
   ]
  },
  {
   "cell_type": "code",
   "execution_count": null,
   "metadata": {
    "collapsed": false
   },
   "outputs": [],
   "source": []
  },
  {
   "cell_type": "markdown",
   "metadata": {},
   "source": [
    "## 2. An Infinite Impulse Response Filter "
   ]
  },
  {
   "cell_type": "markdown",
   "metadata": {},
   "source": [
    "We now consider a infinite impulse response filter with the following coefficients:"
   ]
  },
  {
   "cell_type": "code",
   "execution_count": null,
   "metadata": {
    "collapsed": false
   },
   "outputs": [],
   "source": [
    "a= array([  1.        ,  -5.48487936,  12.79990334, -16.24900038,\n",
    "        11.83119266,  -4.68619948,   0.78979292])\n",
    "a"
   ]
  },
  {
   "cell_type": "code",
   "execution_count": null,
   "metadata": {
    "collapsed": false
   },
   "outputs": [],
   "source": [
    "b = array([  0.88870296,  -5.07375285,  12.3217415 , -16.27257352,\n",
    "        12.3217415 ,  -5.07375285,   0.88870296])\n",
    "b"
   ]
  },
  {
   "cell_type": "markdown",
   "metadata": {},
   "source": [
    "### 2.1 -  Impulse response\n",
    "\n",
    "Compute the impulse response (on 200 points), by applying the definition..\n",
    "Plot the result, using a stem representation (`plt.stem` function). "
   ]
  },
  {
   "cell_type": "code",
   "execution_count": null,
   "metadata": {
    "collapsed": false
   },
   "outputs": [],
   "source": [
    "# computation of the impulse response\n",
    "#\n",
    "\n",
    "# plot\n",
    "#\n"
   ]
  },
  {
   "cell_type": "markdown",
   "metadata": {},
   "source": [
    "### 2.2 -  Transfer function\n",
    "\n",
    "Compute and plot the transfer function, as usual with a correctly graduated and scaled x-axis. "
   ]
  },
  {
   "cell_type": "code",
   "execution_count": null,
   "metadata": {
    "collapsed": false
   },
   "outputs": [],
   "source": [
    "# computation of transfer function\n",
    "#\n",
    "#"
   ]
  },
  {
   "cell_type": "code",
   "execution_count": null,
   "metadata": {
    "collapsed": false
   },
   "outputs": [],
   "source": [
    "# plot..\n",
    "# ..."
   ]
  },
  {
   "cell_type": "markdown",
   "metadata": {},
   "source": [
    "##2.3 - Filtering\n",
    "\n",
    "Filter the initial ecg signal with this signal. Plot the result. Conclusions. "
   ]
  }
 ],
 "metadata": {
  "kernelspec": {
   "display_name": "Python 3",
   "language": "python",
   "name": "python3"
  },
  "language_info": {
   "codemirror_mode": {
    "name": "ipython",
    "version": 3
   },
   "file_extension": ".py",
   "mimetype": "text/x-python",
   "name": "python",
   "nbconvert_exporter": "python",
   "pygments_lexer": "ipython3",
   "version": "3.4.3"
  }
 },
 "nbformat": 4,
 "nbformat_minor": 0
}
