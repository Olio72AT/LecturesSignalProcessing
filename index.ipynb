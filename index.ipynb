{
 "cells": [
  {
   "cell_type": "markdown",
   "metadata": {},
   "source": [
    "# TRAITEMENT DU SIGNAL -- PPMD/ENSG"
   ]
  },
  {
   "cell_type": "markdown",
   "metadata": {},
   "source": [
    "## Installation\n",
    "Télécharger les deux scripts suivants dans un répertoire local,\n",
    "- [Installation des packages Python](install_pkg_ensg)\n",
    "- [Configuration du notebook Jupyter](config_notebook_ensg)\n",
    "puis  faire `chmod 755 *_ensg` et enfin lancer ces deux scripts (par `sudo ./install_pkg_ensg`, puis `./config_notebook_ensg` (en mode utilisateur))\n",
    "\n",
    "\n",
    "## Télécharger l'archive du cours\n",
    "[Archive](http://perso.esiee.fr/~bercherj/PPMD/LecturesSignalProcessing.zip)\n",
    "puis la décompresser par `unzip LecturesSignalProcessing.zip`\n",
    "\n",
    "## Les cours en pages html\n",
    "[Version Web](http://perso.esiee.fr/~bercherj/Lectures_SignalProcessing/index.html)\n",
    "\n",
    "## Le poly \n",
    "[Poly](Poly.pdf) (! déjà inclu dans l'archive)\n",
    "\n",
    "## Les TPs\n",
    "Télécharger les archives ci-dessous et les décompresser dans un répertore local. \n",
    "\n",
    "\n",
    "### TP n°1 : Images\n",
    "\n",
    "- [Distribution pour le TP](https://perso.esiee.fr/~bercherj/PPMD/LabImage.zip)\n",
    "\n",
    "### TP n°2 : Filtrage adaptatif\n",
    "\n",
    "- [Distribution pour le TP](https://perso.esiee.fr/~bercherj/PPMD/noisecancellationlab.zip)"
   ]
  }
 ],
 "metadata": {
  "hide_input": false,
  "kernelspec": {
   "display_name": "Python 3",
   "language": "python",
   "name": "python3"
  },
  "language_info": {
   "codemirror_mode": {
    "name": "ipython",
    "version": 3
   },
   "file_extension": ".py",
   "mimetype": "text/x-python",
   "name": "python",
   "nbconvert_exporter": "python",
   "pygments_lexer": "ipython3",
   "version": "3.5.0"
  },
  "latex_envs": {
   "LaTeX_envs_menu_present": true,
   "autocomplete": true,
   "bibliofile": "latex_bib.bib",
   "cite_by": "apalike",
   "current_citInitial": 1,
   "eqLabelWithNumbers": true,
   "eqNumInitial": 1,
   "hotkeys": {
    "equation": "ctrl-e"
   },
   "labels_anchors": false,
   "latex_user_defs": false,
   "report_style_numbering": false,
   "user_envs_cfg": false
  },
  "nbTranslate": {
   "displayLangs": [
    "fr",
    "en"
   ],
   "hotkey": "alt-a",
   "langInMainMenu": true,
   "sourceLang": "en",
   "targetLang": "fr",
   "useGoogleTranslate": true
  },
  "toc": {
   "nav_menu": {
    "height": "79px",
    "width": "252px"
   },
   "number_sections": false,
   "sideBar": true,
   "skip_h1_title": false,
   "title_cell": "Table of Contents",
   "title_sidebar": "Contents",
   "toc_cell": false,
   "toc_position": {},
   "toc_section_display": "block",
   "toc_window_display": false
  },
  "varInspector": {
   "cols": {
    "lenName": 16,
    "lenType": 16,
    "lenVar": 40
   },
   "kernels_config": {
    "python": {
     "delete_cmd_postfix": "",
     "delete_cmd_prefix": "del ",
     "library": "var_list.py",
     "varRefreshCmd": "print(var_dic_list())"
    },
    "r": {
     "delete_cmd_postfix": ") ",
     "delete_cmd_prefix": "rm(",
     "library": "var_list.r",
     "varRefreshCmd": "cat(var_dic_list()) "
    }
   },
   "types_to_exclude": [
    "module",
    "function",
    "builtin_function_or_method",
    "instance",
    "_Feature"
   ],
   "window_display": false
  }
 },
 "nbformat": 4,
 "nbformat_minor": 1
}
